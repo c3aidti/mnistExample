{
 "cells": [
  {
   "cell_type": "code",
   "execution_count": null,
   "metadata": {
    "ExecuteTime": {
     "end_time": "2020-07-22T17:58:42.907352Z",
     "start_time": "2020-07-22T17:58:32.615270Z"
    }
   },
   "outputs": [],
   "source": [
    "try:\n",
    "    # Check whether the c3 object is defined\n",
    "    c3\n",
    "except NameError:\n",
    "    # Connect to a c3 cluster and create the c3 object\n",
    "    from c3python import get_c3\n",
    "    c3 = get_c3('<vanity_url>', '<tenant>', '<tag>')"
   ]
  },
  {
   "cell_type": "code",
   "execution_count": 57,
   "metadata": {
    "ExecuteTime": {
     "end_time": "2020-08-12T18:27:11.446670Z",
     "start_time": "2020-08-12T18:27:01.223871Z"
    }
   },
   "outputs": [
    {
     "name": "stdout",
     "output_type": "stream",
     "text": [
      "Username: BA\n",
      "Password: ········\n"
     ]
    }
   ],
   "source": [
    "#try:\n",
    "#    # Check whether the c3 object is defined\n",
    "#    c3\n",
    "#except NameError:\n",
    "    # Connect to a c3 cluster and create the c3 object\n",
    "    from c3python import get_c3\n",
    "    c3 = get_c3('http://192.168.2.44:8080', 'mnistExercise', 'dev')"
   ]
  },
  {
   "cell_type": "code",
   "execution_count": 67,
   "metadata": {
    "ExecuteTime": {
     "end_time": "2020-08-10T20:35:28.084203Z",
     "start_time": "2020-08-10T20:35:18.972991Z"
    }
   },
   "outputs": [
    {
     "name": "stdout",
     "output_type": "stream",
     "text": [
      "Collecting package metadata (current_repodata.json): done\n",
      "Solving environment: done\n",
      "\n",
      "## Package Plan ##\n",
      "\n",
      "  environment location: /data0/matthew/Software/NCSA/C3/c3-packages/dtiTraining/mnistExample/c3/py-tensorflow_2_1_0_venv\n",
      "\n",
      "  added / updated specs:\n",
      "    - dill\n",
      "\n",
      "\n",
      "The following packages will be downloaded:\n",
      "\n",
      "    package                    |            build\n",
      "    ---------------------------|-----------------\n",
      "    dill-0.3.2                 |     pyh9f0ad1d_0          59 KB  conda-forge\n",
      "    ------------------------------------------------------------\n",
      "                                           Total:          59 KB\n",
      "\n",
      "The following NEW packages will be INSTALLED:\n",
      "\n",
      "  dill               conda-forge/noarch::dill-0.3.2-pyh9f0ad1d_0\n",
      "\n",
      "The following packages will be UPDATED:\n",
      "\n",
      "  openssl                                 1.1.1g-h516909a_0 --> 1.1.1g-h516909a_1\n",
      "\n",
      "\n",
      "\n",
      "Downloading and Extracting Packages\n",
      "dill-0.3.2           | 59 KB     | ##################################### | 100% \n",
      "Preparing transaction: done\n",
      "Verifying transaction: done\n",
      "Executing transaction: done\n"
     ]
    }
   ],
   "source": [
    "!conda install -y dill"
   ]
  },
  {
   "cell_type": "code",
   "execution_count": 2,
   "metadata": {
    "ExecuteTime": {
     "end_time": "2020-08-12T15:54:06.899917Z",
     "start_time": "2020-08-12T15:53:56.119506Z"
    }
   },
   "outputs": [],
   "source": [
    "import tensorflow as tf\n",
    "import numpy as np\n",
    "import pandas as pd\n",
    "import dill"
   ]
  },
  {
   "cell_type": "code",
   "execution_count": 3,
   "metadata": {
    "ExecuteTime": {
     "end_time": "2020-08-12T15:54:08.001185Z",
     "start_time": "2020-08-12T15:54:07.993243Z"
    }
   },
   "outputs": [],
   "source": [
    "# Define function to create one-hot labels\n",
    "def make_onehot(data):\n",
    "    Res = np.zeros((data.size, data.max()+1))\n",
    "    Res[np.arange(data.size), data.reshape((data.size,))] = 1\n",
    "    return Res.reshape(data.shape+(data.max()+1,))\n",
    "\n",
    "make_onehot_serialized = c3.PythonSerialization.serialize(make_onehot)"
   ]
  },
  {
   "cell_type": "code",
   "execution_count": 122,
   "metadata": {
    "ExecuteTime": {
     "end_time": "2020-08-12T21:26:48.377051Z",
     "start_time": "2020-08-12T21:26:48.372634Z"
    }
   },
   "outputs": [],
   "source": [
    "# Define function to scale data\n",
    "def scale_data(data):\n",
    "    return data/255.\n",
    "\n",
    "scale_data_serialized = c3.PythonSerialization.serialize(scale_data)"
   ]
  },
  {
   "cell_type": "code",
   "execution_count": 123,
   "metadata": {
    "ExecuteTime": {
     "end_time": "2020-08-12T21:27:36.257686Z",
     "start_time": "2020-08-12T21:27:30.956056Z"
    }
   },
   "outputs": [],
   "source": [
    "mnist_test_images_spec = c3.IDXFile.get('MNIST_Test_Images').getFileSourceSpecPreprocess(scale_data_serialized, 'scale')\n",
    "mnist_test_labels_spec = c3.IDXFile.get('MNIST_Test_Labels').getFileSourceSpecPreprocess(make_onehot_serialized, 'onehot')\n",
    "mnist_train_images_spec = c3.IDXFile.get('MNIST_Train_Images').getFileSourceSpecPreprocess(scale_data_serialized, 'scale')\n",
    "mnist_train_labels_spec = c3.IDXFile.get('MNIST_Train_Labels').getFileSourceSpecPreprocess(make_onehot_serialized, 'onehot')"
   ]
  },
  {
   "cell_type": "code",
   "execution_count": 124,
   "metadata": {
    "ExecuteTime": {
     "end_time": "2020-08-12T21:27:38.893622Z",
     "start_time": "2020-08-12T21:27:38.860337Z"
    }
   },
   "outputs": [],
   "source": [
    "# Cast file sources to datasets\n",
    "mnist_test_images = c3.Dataset.fromNdArrayStreamable(sourceSpec=mnist_test_images_spec)\n",
    "mnist_test_labels = c3.Dataset.fromNdArrayStreamable(sourceSpec=mnist_test_labels_spec)\n",
    "mnist_train_images = c3.Dataset.fromNdArrayStreamable(sourceSpec=mnist_train_images_spec)\n",
    "mnist_train_labels = c3.Dataset.fromNdArrayStreamable(sourceSpec=mnist_train_labels_spec)"
   ]
  },
  {
   "cell_type": "code",
   "execution_count": 115,
   "metadata": {
    "ExecuteTime": {
     "end_time": "2020-08-12T19:48:13.835139Z",
     "start_time": "2020-08-12T19:48:13.165976Z"
    }
   },
   "outputs": [
    {
     "data": {
      "text/plain": [
       "(7840000,)"
      ]
     },
     "execution_count": 115,
     "metadata": {},
     "output_type": "execute_result"
    }
   ],
   "source": [
    "mnist_test_images.toNumpyArray().shape"
   ]
  },
  {
   "cell_type": "code",
   "execution_count": 110,
   "metadata": {
    "ExecuteTime": {
     "end_time": "2020-08-12T19:24:45.824300Z",
     "start_time": "2020-08-12T19:24:45.144223Z"
    }
   },
   "outputs": [
    {
     "name": "stdout",
     "output_type": "stream",
     "text": [
      "(7840000,)\n"
     ]
    }
   ],
   "source": [
    "test = mnist_test_images.toNumpyArray().data\n",
    "print(test.shape)"
   ]
  },
  {
   "cell_type": "code",
   "execution_count": 71,
   "metadata": {
    "ExecuteTime": {
     "end_time": "2020-08-12T18:33:20.725940Z",
     "start_time": "2020-08-12T18:33:20.700463Z"
    }
   },
   "outputs": [],
   "source": [
    "batchSpec = c3.BatchStreamSpec(batchSize=10)\n",
    "stream_test = mnist_test_images.toStream(spec=batchSpec)"
   ]
  },
  {
   "cell_type": "code",
   "execution_count": 73,
   "metadata": {
    "ExecuteTime": {
     "end_time": "2020-08-12T18:33:28.205805Z",
     "start_time": "2020-08-12T18:33:28.199079Z"
    }
   },
   "outputs": [
    {
     "data": {
      "text/plain": [
       "(10, 28, 28)"
      ]
     },
     "execution_count": 73,
     "metadata": {},
     "output_type": "execute_result"
    }
   ],
   "source": [
    "stream_test.next().data.shape"
   ]
  },
  {
   "cell_type": "code",
   "execution_count": 74,
   "metadata": {
    "ExecuteTime": {
     "end_time": "2020-08-12T18:33:56.570997Z",
     "start_time": "2020-08-12T18:33:56.535034Z"
    }
   },
   "outputs": [],
   "source": [
    "stream_test_2 = mnist_test_labels.toStream(spec=batchSpec)"
   ]
  },
  {
   "cell_type": "code",
   "execution_count": 75,
   "metadata": {
    "ExecuteTime": {
     "end_time": "2020-08-12T18:34:03.463683Z",
     "start_time": "2020-08-12T18:34:03.260531Z"
    }
   },
   "outputs": [
    {
     "data": {
      "text/plain": [
       "(10, 10)"
      ]
     },
     "execution_count": 75,
     "metadata": {},
     "output_type": "execute_result"
    }
   ],
   "source": [
    "stream_test_2.next().data.shape"
   ]
  },
  {
   "cell_type": "code",
   "execution_count": 125,
   "metadata": {
    "ExecuteTime": {
     "end_time": "2020-08-12T21:28:13.040641Z",
     "start_time": "2020-08-12T21:28:13.029179Z"
    }
   },
   "outputs": [],
   "source": [
    "def train_and_test_model(name, model, train_X, train_Y, test_X, test_Y, epochs=10, callbacks=[]):\n",
    "    # Create the keras pipe\n",
    "    keras_pipe = c3.KerasPipe().upsertNativeModel(model=model)\n",
    "    keras_pipe.technique.numEpochs = epochs\n",
    "\n",
    "#    # Build the preprocessing step necessary to normalize the data.\n",
    "#\n",
    "#    scaler = c3.SklearnPipe(name=\"scaler\",\n",
    "#                            technique=c3.SklearnTechnique(\n",
    "#                                #name=\"preprocessing.MinMaxScaler\",\n",
    "#                                name=\"preprocessing.StandardScaler\",\n",
    "#                                processingFunctionName=\"transform\",\n",
    "#                                )\n",
    "#                            )\n",
    "#\n",
    "#    pipe = c3.MLSerialPipeline(name=\"serialPipeline\",\n",
    "#                               steps=[c3.MLStep(name=\"sklearnStep\",\n",
    "#                                                pipe=scaler),\n",
    "#                                      c3.MLStep(name=\"kerasPipe\",\n",
    "#                                                pipe=keras_pipe)]\n",
    "#                               )\n",
    "    \n",
    "#    trained_pipe = pipe.train(input=train_X, targetOutput=train_Y)\n",
    "    trained_pipe = keras_pipe.train(input=train_X, targetOutput=train_Y)\n",
    "    result = trained_pipe.process(input=test_X)\n",
    "\n",
    "    result_np = result.toNumpyArray()\n",
    "    test_Y_np = test_Y.toStream().collectAndMerge().data\n",
    "\n",
    "    tot = test_Y_np.shape[0]\n",
    "    error_rate = sum(result_np.argmax(axis=1)!=test_Y_np.argmax(axis=1))/(float(tot))\n",
    "\n",
    "    print(\"{} Error Rate: {:.2f}%\".format(name, error_rate*100))\n",
    "    return trained_pipe"
   ]
  },
  {
   "cell_type": "code",
   "execution_count": 120,
   "metadata": {
    "ExecuteTime": {
     "end_time": "2020-08-12T20:26:58.038431Z",
     "start_time": "2020-08-12T20:26:57.991098Z"
    },
    "scrolled": true
   },
   "outputs": [
    {
     "name": "stdout",
     "output_type": "stream",
     "text": [
      "Model: \"sequential_7\"\n",
      "_________________________________________________________________\n",
      "Layer (type)                 Output Shape              Param #   \n",
      "=================================================================\n",
      "reshape_7 (Reshape)          (None, 784)               0         \n",
      "_________________________________________________________________\n",
      "dense_14 (Dense)             (None, 1000)              785000    \n",
      "_________________________________________________________________\n",
      "dense_15 (Dense)             (None, 10)                10010     \n",
      "=================================================================\n",
      "Total params: 795,010\n",
      "Trainable params: 795,010\n",
      "Non-trainable params: 0\n",
      "_________________________________________________________________\n"
     ]
    }
   ],
   "source": [
    "# Build tensorflow model.\n",
    "one_layer_simple_model = tf.keras.Sequential([\n",
    "    tf.keras.layers.Reshape((28*28,), input_shape=(28,28)),\n",
    "    tf.keras.layers.Dense(1000, activation='relu'),\n",
    "    tf.keras.layers.Dense(10, activation='softmax')\n",
    "])\n",
    "\n",
    "one_layer_simple_model.summary()\n",
    "one_layer_simple_model.compile(optimizer='Adam', loss='categorical_crossentropy')"
   ]
  },
  {
   "cell_type": "code",
   "execution_count": 126,
   "metadata": {
    "ExecuteTime": {
     "end_time": "2020-08-12T21:28:34.949407Z",
     "start_time": "2020-08-12T21:28:15.398397Z"
    }
   },
   "outputs": [
    {
     "name": "stdout",
     "output_type": "stream",
     "text": [
      "one_layer_simple_model Error Rate: 4.63%\n"
     ]
    }
   ],
   "source": [
    "trained_pipe = train_and_test_model('one_layer_simple_model', one_layer_simple_model,\n",
    "                     mnist_train_images, mnist_train_labels,\n",
    "                     mnist_test_images, mnist_test_labels)"
   ]
  },
  {
   "cell_type": "code",
   "execution_count": 103,
   "metadata": {
    "ExecuteTime": {
     "end_time": "2020-08-12T18:50:01.702787Z",
     "start_time": "2020-08-12T18:50:01.645354Z"
    }
   },
   "outputs": [
    {
     "name": "stdout",
     "output_type": "stream",
     "text": [
      "Model: \"sequential_3\"\n",
      "_________________________________________________________________\n",
      "Layer (type)                 Output Shape              Param #   \n",
      "=================================================================\n",
      "reshape_3 (Reshape)          (None, 784)               0         \n",
      "_________________________________________________________________\n",
      "dense_6 (Dense)              (None, 1000)              785000    \n",
      "_________________________________________________________________\n",
      "dense_7 (Dense)              (None, 1000)              1001000   \n",
      "_________________________________________________________________\n",
      "dense_8 (Dense)              (None, 10)                10010     \n",
      "=================================================================\n",
      "Total params: 1,796,010\n",
      "Trainable params: 1,796,010\n",
      "Non-trainable params: 0\n",
      "_________________________________________________________________\n"
     ]
    }
   ],
   "source": [
    "# Build tensorflow model.\n",
    "two_layer_simple_model = tf.keras.Sequential([\n",
    "    tf.keras.layers.Reshape((28*28,), input_shape=(28,28)),\n",
    "    tf.keras.layers.Dense(1000, activation='relu'),\n",
    "    tf.keras.layers.Dense(1000, activation='relu'),\n",
    "    tf.keras.layers.Dense(10, activation='softmax')\n",
    "])\n",
    "\n",
    "two_layer_simple_model.summary()\n",
    "two_layer_simple_model.compile(optimizer='Adam', loss='categorical_crossentropy')"
   ]
  },
  {
   "cell_type": "code",
   "execution_count": 127,
   "metadata": {
    "ExecuteTime": {
     "end_time": "2020-08-12T21:29:09.033744Z",
     "start_time": "2020-08-12T21:28:42.129678Z"
    }
   },
   "outputs": [
    {
     "name": "stdout",
     "output_type": "stream",
     "text": [
      "two_layer_simple_model Error Rate: 5.35%\n"
     ]
    },
    {
     "data": {
      "text/plain": [
       "c3.KerasPipe(\n",
       " id='868531ab-9312-4822-a0a1-7c8f95c8c6fc',\n",
       " meta=c3.Meta(\n",
       "        tenantTagId=3,\n",
       "        tenant='mnistExercise',\n",
       "        tag='dev',\n",
       "        created=datetime.datetime(2020, 8, 12, 21, 27, 52, tzinfo=datetime.timezone.utc),\n",
       "        createdBy='BA',\n",
       "        updated=datetime.datetime(2020, 8, 12, 21, 28, 9, tzinfo=datetime.timezone.utc),\n",
       "        updatedBy='BA',\n",
       "        timestamp=datetime.datetime(2020, 8, 12, 21, 28, 9, tzinfo=datetime.timezone.utc),\n",
       "        fetchInclude='[]',\n",
       "        fetchType='KerasPipe'),\n",
       " version=2,\n",
       " typeIdent='PIPE:LF:KRS',\n",
       " implType='KerasPipeV7d12',\n",
       " noTrainScore=False,\n",
       " persistedModelCategory='unidentified',\n",
       " typeVersion='7.12.4',\n",
       " untrainableOverride=False,\n",
       " technique=c3.KerasTechnique(\n",
       "             modelDef='{\"class_name\": \"Sequential\", \"config\": {\"name\": '\n",
       "                       '\"sequential_3\", \"layers\": [{\"class_name\": \"Reshape\", '\n",
       "                       '\"config\": {\"name\": \"reshape_3\", \"trainable\": true, '\n",
       "                       '\"batch_input_shape\": [null, 28, 28], \"dtype\": '\n",
       "                       '\"float32\", \"target_shape\": [784]}}, {\"class_name\": '\n",
       "                       '\"Dense\", \"config\": {\"name\": \"dense_6\", \"trainable\": '\n",
       "                       'true, \"dtype\": \"float32\", \"units\": 1000, \"activation\": '\n",
       "                       '\"relu\", \"use_bias\": true, \"kernel_initializer\": '\n",
       "                       '{\"class_name\": \"GlorotUniform\", \"config\": {\"seed\": '\n",
       "                       'null}}, \"bias_initializer\": {\"class_name\": \"Zeros\", '\n",
       "                       '\"config\": {}}, \"kernel_regularizer\": null, '\n",
       "                       '\"bias_regularizer\": null, \"activity_regularizer\": '\n",
       "                       'null, \"kernel_constraint\": null, \"bias_constraint\": '\n",
       "                       'null}}, {\"class_name\": \"Dense\", \"config\": {\"name\": '\n",
       "                       '\"dense_7\", \"trainable\": true, \"dtype\": \"float32\", '\n",
       "                       '\"units\": 1000, \"activation\": \"relu\", \"use_bias\": true, '\n",
       "                       '\"kernel_initializer\": {\"class_name\": \"GlorotUniform\", '\n",
       "                       '\"config\": {\"seed\": null}}, \"bias_initializer\": '\n",
       "                       '{\"class_name\": \"Zeros\", \"config\": {}}, '\n",
       "                       '\"kernel_regularizer\": null, \"bias_regularizer\": null, '\n",
       "                       '\"activity_regularizer\": null, \"kernel_constraint\": '\n",
       "                       'null, \"bias_constraint\": null}}, {\"class_name\": '\n",
       "                       '\"Dense\", \"config\": {\"name\": \"dense_8\", \"trainable\": '\n",
       "                       'true, \"dtype\": \"float32\", \"units\": 10, \"activation\": '\n",
       "                       '\"softmax\", \"use_bias\": true, \"kernel_initializer\": '\n",
       "                       '{\"class_name\": \"GlorotUniform\", \"config\": {\"seed\": '\n",
       "                       'null}}, \"bias_initializer\": {\"class_name\": \"Zeros\", '\n",
       "                       '\"config\": {}}, \"kernel_regularizer\": null, '\n",
       "                       '\"bias_regularizer\": null, \"activity_regularizer\": '\n",
       "                       'null, \"kernel_constraint\": null, \"bias_constraint\": '\n",
       "                       'null}}]}, \"keras_version\": \"2.2.4-tf\", \"backend\": '\n",
       "                       '\"tensorflow\"}',\n",
       "             batchSize=32,\n",
       "             numEpochs=10,\n",
       "             loss=c3.KerasLoss(\n",
       "                    config={'reduction': 'sum_over_batch_size'},\n",
       "                    name='categorical_crossentropy'),\n",
       "             optimizer=c3.KerasOptimizer(\n",
       "                         className='Adam',\n",
       "                         config={'amsgrad': False,\n",
       "                                  'beta_1': 0.8999999761581421,\n",
       "                                  'beta_2': 0.9990000128746033,\n",
       "                                  'decay': 0,\n",
       "                                  'epsilon': 1e-07,\n",
       "                                  'learning_rate': 0.0010000000474974513},\n",
       "                         name='Adam'),\n",
       "             warmStart=False,\n",
       "             shuffle=False,\n",
       "             stepsPerEpoch=100,\n",
       "             cacheOnLocalClientStorage=True,\n",
       "             lossChanged=False,\n",
       "             optimizerChanged=False,\n",
       "             metricsChanged=False),\n",
       " trainedModel=c3.MLTrainedModelArtifact(\n",
       "                modelFile=c3.File(\n",
       "                            url='c3fs:///ml/models/KerasPipe/868531ab-9312-4822-a0a1-7c8f95c8c6fc/kerasModelDef.h5'),\n",
       "                description='Keras model created on '\n",
       "                             '2020-08-12T21:28:09.783338'),\n",
       " progress=c3.DeepLearningTrainingProgress(\n",
       "            id='15616f89-7456-4ac6-8720-02d80b0e8ab3'))"
      ]
     },
     "execution_count": 127,
     "metadata": {},
     "output_type": "execute_result"
    }
   ],
   "source": [
    "train_and_test_model('two_layer_simple_model', two_layer_simple_model,\n",
    "                     mnist_train_images, mnist_train_labels,\n",
    "                     mnist_test_images, mnist_test_labels)"
   ]
  },
  {
   "cell_type": "code",
   "execution_count": 106,
   "metadata": {
    "ExecuteTime": {
     "end_time": "2020-08-12T18:51:07.395125Z",
     "start_time": "2020-08-12T18:51:07.296004Z"
    }
   },
   "outputs": [
    {
     "name": "stdout",
     "output_type": "stream",
     "text": [
      "Model: \"sequential_4\"\n",
      "_________________________________________________________________\n",
      "Layer (type)                 Output Shape              Param #   \n",
      "=================================================================\n",
      "reshape_4 (Reshape)          (None, 28, 28, 1)         0         \n",
      "_________________________________________________________________\n",
      "conv2d (Conv2D)              (None, 26, 26, 32)        320       \n",
      "_________________________________________________________________\n",
      "flatten (Flatten)            (None, 21632)             0         \n",
      "_________________________________________________________________\n",
      "dense_9 (Dense)              (None, 10)                216330    \n",
      "=================================================================\n",
      "Total params: 216,650\n",
      "Trainable params: 216,650\n",
      "Non-trainable params: 0\n",
      "_________________________________________________________________\n"
     ]
    }
   ],
   "source": [
    "one_layer_cnn_model = tf.keras.Sequential([\n",
    "    tf.keras.layers.Reshape((28,28,1), input_shape=(28,28)),\n",
    "    tf.keras.layers.Conv2D(32, kernel_size=(3,3),\n",
    "                           activation='relu'),\n",
    "    tf.keras.layers.Flatten(),\n",
    "    tf.keras.layers.Dense(10, activation='softmax')\n",
    "])\n",
    "\n",
    "one_layer_cnn_model.summary()\n",
    "one_layer_cnn_model.compile(optimizer='Adam', loss='categorical_crossentropy')"
   ]
  },
  {
   "cell_type": "code",
   "execution_count": 128,
   "metadata": {
    "ExecuteTime": {
     "end_time": "2020-08-12T21:29:22.886400Z",
     "start_time": "2020-08-12T21:29:09.036084Z"
    }
   },
   "outputs": [
    {
     "name": "stdout",
     "output_type": "stream",
     "text": [
      "one_layer_cnn_model Error Rate: 3.29%\n"
     ]
    },
    {
     "data": {
      "text/plain": [
       "c3.KerasPipe(\n",
       " id='be7ca671-6abb-4a1f-864e-74c15e4763a7',\n",
       " meta=c3.Meta(\n",
       "        tenantTagId=3,\n",
       "        tenant='mnistExercise',\n",
       "        tag='dev',\n",
       "        created=datetime.datetime(2020, 8, 12, 21, 28, 18, tzinfo=datetime.timezone.utc),\n",
       "        createdBy='BA',\n",
       "        updated=datetime.datetime(2020, 8, 12, 21, 28, 26, tzinfo=datetime.timezone.utc),\n",
       "        updatedBy='BA',\n",
       "        timestamp=datetime.datetime(2020, 8, 12, 21, 28, 26, tzinfo=datetime.timezone.utc),\n",
       "        fetchInclude='[]',\n",
       "        fetchType='KerasPipe'),\n",
       " version=2,\n",
       " typeIdent='PIPE:LF:KRS',\n",
       " implType='KerasPipeV7d12',\n",
       " noTrainScore=False,\n",
       " persistedModelCategory='unidentified',\n",
       " typeVersion='7.12.4',\n",
       " untrainableOverride=False,\n",
       " technique=c3.KerasTechnique(\n",
       "             modelDef='{\"class_name\": \"Sequential\", \"config\": {\"name\": '\n",
       "                       '\"sequential_4\", \"layers\": [{\"class_name\": \"Reshape\", '\n",
       "                       '\"config\": {\"name\": \"reshape_4\", \"trainable\": true, '\n",
       "                       '\"batch_input_shape\": [null, 28, 28], \"dtype\": '\n",
       "                       '\"float32\", \"target_shape\": [28, 28, 1]}}, '\n",
       "                       '{\"class_name\": \"Conv2D\", \"config\": {\"name\": \"conv2d\", '\n",
       "                       '\"trainable\": true, \"dtype\": \"float32\", \"filters\": 32, '\n",
       "                       '\"kernel_size\": [3, 3], \"strides\": [1, 1], \"padding\": '\n",
       "                       '\"valid\", \"data_format\": \"channels_last\", '\n",
       "                       '\"dilation_rate\": [1, 1], \"activation\": \"relu\", '\n",
       "                       '\"use_bias\": true, \"kernel_initializer\": {\"class_name\": '\n",
       "                       '\"GlorotUniform\", \"config\": {\"seed\": null}}, '\n",
       "                       '\"bias_initializer\": {\"class_name\": \"Zeros\", \"config\": '\n",
       "                       '{}}, \"kernel_regularizer\": null, \"bias_regularizer\": '\n",
       "                       'null, \"activity_regularizer\": null, '\n",
       "                       '\"kernel_constraint\": null, \"bias_constraint\": null}}, '\n",
       "                       '{\"class_name\": \"Flatten\", \"config\": {\"name\": '\n",
       "                       '\"flatten\", \"trainable\": true, \"dtype\": \"float32\", '\n",
       "                       '\"data_format\": \"channels_last\"}}, {\"class_name\": '\n",
       "                       '\"Dense\", \"config\": {\"name\": \"dense_9\", \"trainable\": '\n",
       "                       'true, \"dtype\": \"float32\", \"units\": 10, \"activation\": '\n",
       "                       '\"softmax\", \"use_bias\": true, \"kernel_initializer\": '\n",
       "                       '{\"class_name\": \"GlorotUniform\", \"config\": {\"seed\": '\n",
       "                       'null}}, \"bias_initializer\": {\"class_name\": \"Zeros\", '\n",
       "                       '\"config\": {}}, \"kernel_regularizer\": null, '\n",
       "                       '\"bias_regularizer\": null, \"activity_regularizer\": '\n",
       "                       'null, \"kernel_constraint\": null, \"bias_constraint\": '\n",
       "                       'null}}]}, \"keras_version\": \"2.2.4-tf\", \"backend\": '\n",
       "                       '\"tensorflow\"}',\n",
       "             batchSize=32,\n",
       "             numEpochs=10,\n",
       "             loss=c3.KerasLoss(\n",
       "                    config={'reduction': 'sum_over_batch_size'},\n",
       "                    name='categorical_crossentropy'),\n",
       "             optimizer=c3.KerasOptimizer(\n",
       "                         className='Adam',\n",
       "                         config={'amsgrad': False,\n",
       "                                  'beta_1': 0.8999999761581421,\n",
       "                                  'beta_2': 0.9990000128746033,\n",
       "                                  'decay': 0,\n",
       "                                  'epsilon': 1e-07,\n",
       "                                  'learning_rate': 0.0010000000474974513},\n",
       "                         name='Adam'),\n",
       "             warmStart=False,\n",
       "             shuffle=False,\n",
       "             stepsPerEpoch=100,\n",
       "             cacheOnLocalClientStorage=True,\n",
       "             lossChanged=False,\n",
       "             optimizerChanged=False,\n",
       "             metricsChanged=False),\n",
       " trainedModel=c3.MLTrainedModelArtifact(\n",
       "                modelFile=c3.File(\n",
       "                            url='c3fs:///ml/models/KerasPipe/be7ca671-6abb-4a1f-864e-74c15e4763a7/kerasModelDef.h5'),\n",
       "                description='Keras model created on '\n",
       "                             '2020-08-12T21:28:26.244977'),\n",
       " progress=c3.DeepLearningTrainingProgress(\n",
       "            id='ad85eb02-750b-4f49-8a72-88321e50d29b'))"
      ]
     },
     "execution_count": 128,
     "metadata": {},
     "output_type": "execute_result"
    }
   ],
   "source": [
    "train_and_test_model('one_layer_cnn_model', one_layer_cnn_model,\n",
    "                     mnist_train_images, mnist_train_labels,\n",
    "                     mnist_test_images, mnist_test_labels)"
   ]
  },
  {
   "cell_type": "code",
   "execution_count": 108,
   "metadata": {
    "ExecuteTime": {
     "end_time": "2020-08-12T18:51:28.833954Z",
     "start_time": "2020-08-12T18:51:28.710066Z"
    }
   },
   "outputs": [
    {
     "name": "stdout",
     "output_type": "stream",
     "text": [
      "Model: \"sequential_5\"\n",
      "_________________________________________________________________\n",
      "Layer (type)                 Output Shape              Param #   \n",
      "=================================================================\n",
      "reshape_5 (Reshape)          (None, 28, 28, 1)         0         \n",
      "_________________________________________________________________\n",
      "conv2d_1 (Conv2D)            (None, 26, 26, 32)        320       \n",
      "_________________________________________________________________\n",
      "conv2d_2 (Conv2D)            (None, 24, 24, 64)        18496     \n",
      "_________________________________________________________________\n",
      "max_pooling2d (MaxPooling2D) (None, 12, 12, 64)        0         \n",
      "_________________________________________________________________\n",
      "dropout (Dropout)            (None, 12, 12, 64)        0         \n",
      "_________________________________________________________________\n",
      "flatten_1 (Flatten)          (None, 9216)              0         \n",
      "_________________________________________________________________\n",
      "dense_10 (Dense)             (None, 125)               1152125   \n",
      "_________________________________________________________________\n",
      "dropout_1 (Dropout)          (None, 125)               0         \n",
      "_________________________________________________________________\n",
      "dense_11 (Dense)             (None, 10)                1260      \n",
      "=================================================================\n",
      "Total params: 1,172,201\n",
      "Trainable params: 1,172,201\n",
      "Non-trainable params: 0\n",
      "_________________________________________________________________\n"
     ]
    }
   ],
   "source": [
    "three_layer_cnn_model = tf.keras.Sequential([\n",
    "    tf.keras.layers.Reshape((28,28,1), input_shape=(28,28)),\n",
    "    tf.keras.layers.Conv2D(32, kernel_size=(3,3),\n",
    "                           activation='relu'),\n",
    "    tf.keras.layers.Conv2D(64, kernel_size=(3,3),\n",
    "                           activation='relu'),\n",
    "    tf.keras.layers.MaxPooling2D(pool_size=(2,2)),\n",
    "    tf.keras.layers.Dropout(0.25),\n",
    "    tf.keras.layers.Flatten(),\n",
    "    tf.keras.layers.Dense(125, activation='relu'),\n",
    "    tf.keras.layers.Dropout(0.5),\n",
    "    tf.keras.layers.Dense(10, activation='softmax')\n",
    "])\n",
    "\n",
    "three_layer_cnn_model.summary()\n",
    "three_layer_cnn_model.compile(optimizer='Adam', loss='categorical_crossentropy')"
   ]
  },
  {
   "cell_type": "code",
   "execution_count": 130,
   "metadata": {
    "ExecuteTime": {
     "end_time": "2020-08-12T21:35:45.218630Z",
     "start_time": "2020-08-12T21:35:08.998856Z"
    }
   },
   "outputs": [
    {
     "name": "stdout",
     "output_type": "stream",
     "text": [
      "three_layer_cnn_model Error Rate: 2.07%\n"
     ]
    },
    {
     "data": {
      "text/plain": [
       "c3.KerasPipe(\n",
       " id='3165af73-aa06-47ff-bfcd-016b5c9e9915',\n",
       " meta=c3.Meta(\n",
       "        tenantTagId=3,\n",
       "        tenant='mnistExercise',\n",
       "        tag='dev',\n",
       "        created=datetime.datetime(2020, 8, 12, 21, 34, 19, tzinfo=datetime.timezone.utc),\n",
       "        createdBy='BA',\n",
       "        updated=datetime.datetime(2020, 8, 12, 21, 34, 46, tzinfo=datetime.timezone.utc),\n",
       "        updatedBy='BA',\n",
       "        timestamp=datetime.datetime(2020, 8, 12, 21, 34, 46, tzinfo=datetime.timezone.utc),\n",
       "        fetchInclude='[]',\n",
       "        fetchType='KerasPipe'),\n",
       " version=2,\n",
       " typeIdent='PIPE:LF:KRS',\n",
       " implType='KerasPipeV7d12',\n",
       " noTrainScore=False,\n",
       " persistedModelCategory='unidentified',\n",
       " typeVersion='7.12.4',\n",
       " untrainableOverride=False,\n",
       " technique=c3.KerasTechnique(\n",
       "             modelDef='{\"class_name\": \"Sequential\", \"config\": {\"name\": '\n",
       "                       '\"sequential_5\", \"layers\": [{\"class_name\": \"Reshape\", '\n",
       "                       '\"config\": {\"name\": \"reshape_5\", \"trainable\": true, '\n",
       "                       '\"batch_input_shape\": [null, 28, 28], \"dtype\": '\n",
       "                       '\"float32\", \"target_shape\": [28, 28, 1]}}, '\n",
       "                       '{\"class_name\": \"Conv2D\", \"config\": {\"name\": '\n",
       "                       '\"conv2d_1\", \"trainable\": true, \"dtype\": \"float32\", '\n",
       "                       '\"filters\": 32, \"kernel_size\": [3, 3], \"strides\": [1, '\n",
       "                       '1], \"padding\": \"valid\", \"data_format\": '\n",
       "                       '\"channels_last\", \"dilation_rate\": [1, 1], '\n",
       "                       '\"activation\": \"relu\", \"use_bias\": true, '\n",
       "                       '\"kernel_initializer\": {\"class_name\": \"GlorotUniform\", '\n",
       "                       '\"config\": {\"seed\": null}}, \"bias_initializer\": '\n",
       "                       '{\"class_name\": \"Zeros\", \"config\": {}}, '\n",
       "                       '\"kernel_regularizer\": null, \"bias_regularizer\": null, '\n",
       "                       '\"activity_regularizer\": null, \"kernel_constraint\": '\n",
       "                       'null, \"bias_constraint\": null}}, {\"class_name\": '\n",
       "                       '\"Conv2D\", \"config\": {\"name\": \"conv2d_2\", \"trainable\": '\n",
       "                       'true, \"dtype\": \"float32\", \"filters\": 64, '\n",
       "                       '\"kernel_size\": [3, 3], \"strides\": [1, 1], \"padding\": '\n",
       "                       '\"valid\", \"data_format\": \"channels_last\", '\n",
       "                       '\"dilation_rate\": [1, 1], \"activation\": \"relu\", '\n",
       "                       '\"use_bias\": true, \"kernel_initializer\": {\"class_name\": '\n",
       "                       '\"GlorotUniform\", \"config\": {\"seed\": null}}, '\n",
       "                       '\"bias_initializer\": {\"class_name\": \"Zeros\", \"config\": '\n",
       "                       '{}}, \"kernel_regularizer\": null, \"bias_regularizer\": '\n",
       "                       'null, \"activity_regularizer\": null, '\n",
       "                       '\"kernel_constraint\": null, \"bias_constraint\": null}}, '\n",
       "                       '{\"class_name\": \"MaxPooling2D\", \"config\": {\"name\": '\n",
       "                       '\"max_pooling2d\", \"trainable\": true, \"dtype\": '\n",
       "                       '\"float32\", \"pool_size\": [2, 2], \"padding\": \"valid\", '\n",
       "                       '\"strides\": [2, 2], \"data_format\": \"channels_last\"}}, '\n",
       "                       '{\"class_name\": \"Dropout\", \"config\": {\"name\": '\n",
       "                       '\"dropout\", \"trainable\": true, \"dtype\": \"float32\", '\n",
       "                       '\"rate\": 0.25, \"noise_shape\": null, \"seed\": null}}, '\n",
       "                       '{\"class_name\": \"Flatten\", \"config\": {\"name\": '\n",
       "                       '\"flatten_1\", \"trainable\": true, \"dtype\": \"float32\", '\n",
       "                       '\"data_format\": \"channels_last\"}}, {\"class_name\": '\n",
       "                       '\"Dense\", \"config\": {\"name\": \"dense_10\", \"trainable\": '\n",
       "                       'true, \"dtype\": \"float32\", \"units\": 125, \"activation\": '\n",
       "                       '\"relu\", \"use_bias\": true, \"kernel_initializer\": '\n",
       "                       '{\"class_name\": \"GlorotUniform\", \"config\": {\"seed\": '\n",
       "                       'null}}, \"bias_initializer\": {\"class_name\": \"Zeros\", '\n",
       "                       '\"config\": {}}, \"kernel_regularizer\": null, '\n",
       "                       '\"bias_regularizer\": null, \"activity_regularizer\": '\n",
       "                       'null, \"kernel_constraint\": null, \"bias_constraint\": '\n",
       "                       'null}}, {\"class_name\": \"Dropout\", \"config\": {\"name\": '\n",
       "                       '\"dropout_1\", \"trainable\": true, \"dtype\": \"float32\", '\n",
       "                       '\"rate\": 0.5, \"noise_shape\": null, \"seed\": null}}, '\n",
       "                       '{\"class_name\": \"Dense\", \"config\": {\"name\": \"dense_11\", '\n",
       "                       '\"trainable\": true, \"dtype\": \"float32\", \"units\": 10, '\n",
       "                       '\"activation\": \"softmax\", \"use_bias\": true, '\n",
       "                       '\"kernel_initializer\": {\"class_name\": \"GlorotUniform\", '\n",
       "                       '\"config\": {\"seed\": null}}, \"bias_initializer\": '\n",
       "                       '{\"class_name\": \"Zeros\", \"config\": {}}, '\n",
       "                       '\"kernel_regularizer\": null, \"bias_regularizer\": null, '\n",
       "                       '\"activity_regularizer\": null, \"kernel_constraint\": '\n",
       "                       'null, \"bias_constraint\": null}}]}, \"keras_version\": '\n",
       "                       '\"2.2.4-tf\", \"backend\": \"tensorflow\"}',\n",
       "             batchSize=32,\n",
       "             numEpochs=10,\n",
       "             loss=c3.KerasLoss(\n",
       "                    config={'reduction': 'sum_over_batch_size'},\n",
       "                    name='categorical_crossentropy'),\n",
       "             optimizer=c3.KerasOptimizer(\n",
       "                         className='Adam',\n",
       "                         config={'amsgrad': False,\n",
       "                                  'beta_1': 0.8999999761581421,\n",
       "                                  'beta_2': 0.9990000128746033,\n",
       "                                  'decay': 0,\n",
       "                                  'epsilon': 1e-07,\n",
       "                                  'learning_rate': 0.0010000000474974513},\n",
       "                         name='Adam'),\n",
       "             warmStart=False,\n",
       "             shuffle=False,\n",
       "             stepsPerEpoch=100,\n",
       "             cacheOnLocalClientStorage=True,\n",
       "             lossChanged=False,\n",
       "             optimizerChanged=False,\n",
       "             metricsChanged=False),\n",
       " trainedModel=c3.MLTrainedModelArtifact(\n",
       "                modelFile=c3.File(\n",
       "                            url='c3fs:///ml/models/KerasPipe/3165af73-aa06-47ff-bfcd-016b5c9e9915/kerasModelDef.h5'),\n",
       "                description='Keras model created on '\n",
       "                             '2020-08-12T21:34:46.704964'),\n",
       " progress=c3.DeepLearningTrainingProgress(\n",
       "            id='5eeae466-e684-4ed3-83c6-81f1675875ac'))"
      ]
     },
     "execution_count": 130,
     "metadata": {},
     "output_type": "execute_result"
    }
   ],
   "source": [
    "train_and_test_model('three_layer_cnn_model', three_layer_cnn_model,\n",
    "                     mnist_train_images, mnist_train_labels,\n",
    "                     mnist_test_images, mnist_test_labels)"
   ]
  },
  {
   "cell_type": "code",
   "execution_count": null,
   "metadata": {},
   "outputs": [],
   "source": []
  }
 ],
 "metadata": {
  "kernelspec": {
   "display_name": "Python 3",
   "language": "python",
   "name": "python3"
  },
  "language_info": {
   "codemirror_mode": {
    "name": "ipython",
    "version": 3
   },
   "file_extension": ".py",
   "mimetype": "text/x-python",
   "name": "python",
   "nbconvert_exporter": "python",
   "pygments_lexer": "ipython3",
   "version": "3.6.10"
  }
 },
 "nbformat": 4,
 "nbformat_minor": 4
}

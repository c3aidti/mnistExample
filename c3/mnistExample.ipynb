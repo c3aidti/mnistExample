{
 "cells": [
  {
   "cell_type": "code",
   "execution_count": 1,
   "metadata": {
    "ExecuteTime": {
     "end_time": "2020-06-19T17:55:48.492979Z",
     "start_time": "2020-06-19T17:55:41.246642Z"
    }
   },
   "outputs": [
    {
     "name": "stdout",
     "output_type": "stream",
     "text": [
      "Username: BA\n",
      "Password: ········\n"
     ]
    }
   ],
   "source": [
    "# If we aren't on a c3 container, we need to get the c3 object.\n",
    "try:\n",
    "    c3\n",
    "except:\n",
    "    from c3python import get_c3\n",
    "    c3 = get_c3('http://192.168.2.44:8080', 'mnistExercise', 'dev')"
   ]
  },
  {
   "cell_type": "code",
   "execution_count": 2,
   "metadata": {
    "ExecuteTime": {
     "end_time": "2020-06-19T17:55:49.874960Z",
     "start_time": "2020-06-19T17:55:48.496321Z"
    }
   },
   "outputs": [],
   "source": [
    "import tensorflow as tf\n",
    "import numpy as np"
   ]
  },
  {
   "cell_type": "code",
   "execution_count": 3,
   "metadata": {
    "ExecuteTime": {
     "end_time": "2020-06-19T17:59:02.772181Z",
     "start_time": "2020-06-19T17:55:49.876741Z"
    }
   },
   "outputs": [],
   "source": [
    "# Load and 'reshape' datasets\n",
    "#mnist_test_images = c3.Dataset.toDataset(this=c3.IDXFile.get('MNIST_Test_Images').getDataset(),\n",
    "#                                         axesAsRow=[0], axesAsColumn=[1,2])\n",
    "#mnist_test_images.axes = ['source', 'features']\n",
    "#mnist_test_labels = c3.Dataset.toDataset(this=c3.IDXFile.get('MNIST_Test_Labels').getDataset(),\n",
    "#                                         axesAsRow=[0], axesAsColumn=[1])\n",
    "#mnist_test_labels.axes = ['source', 'features']\n",
    "#mnist_train_images = c3.Dataset.toDataset(this=c3.IDXFile.get('MNIST_Train_Images').getDataset(),\n",
    "#                                          axesAsRow=[0], axesAsColumn=[1,2])\n",
    "#mnist_train_images.axes = ['source', 'features']\n",
    "#mnist_train_labels = c3.Dataset.toDataset(this=c3.IDXFile.get('MNIST_Train_Labels').getDataset(),\n",
    "#                                          axesAsRow=[0], axesAsColumn=[1])\n",
    "#mnist_train_labels.axes = ['source', 'features']\n",
    "\n",
    "mnist_test_images = c3.IDXFile.get('MNIST_Test_Images').getDataset()\n",
    "mnist_test_labels = c3.IDXFile.get('MNIST_Test_Labels').getDataset()\n",
    "mnist_train_images = c3.IDXFile.get('MNIST_Train_Images').getDataset()\n",
    "mnist_train_labels = c3.IDXFile.get('MNIST_Train_Labels').getDataset()"
   ]
  },
  {
   "cell_type": "code",
   "execution_count": 4,
   "metadata": {
    "ExecuteTime": {
     "end_time": "2020-06-19T17:59:03.591318Z",
     "start_time": "2020-06-19T17:59:02.773486Z"
    }
   },
   "outputs": [],
   "source": [
    "mnist_test_labels_onehot = mnist_test_labels.generateDummyVariables(column='0', keepOriginalColumn=False)\n",
    "mnist_train_labels_onehot = mnist_train_labels.generateDummyVariables(column='0', keepOriginalColumn=False)"
   ]
  },
  {
   "cell_type": "code",
   "execution_count": 8,
   "metadata": {
    "ExecuteTime": {
     "end_time": "2020-06-19T18:40:45.509440Z",
     "start_time": "2020-06-19T18:40:45.499795Z"
    }
   },
   "outputs": [],
   "source": [
    "def train_and_test_model(name, model, train_X, train_Y, test_X, test_Y, epochs=10, callbacks=[]):\n",
    "    pipe = c3.KerasPipe().upsertNativeModel(model=model)\n",
    "    pipe.technique.numEpochs = epochs\n",
    "    trained_pipe = pipe.train(input=train_X, targetOutput=train_Y)\n",
    "    result = trained_pipe.process(input=test_X)\n",
    "\n",
    "    result_np = result.toNumpyArray()\n",
    "    test_Y_np = test_Y.toNumpyArray()\n",
    "\n",
    "    tot = test_Y_np.shape[0]\n",
    "    error_rate = sum(result_np.argmax(axis=1)!=test_Y_np.argmax(axis=1))/(float(tot))\n",
    "\n",
    "    print(\"{} Error Rate: {:.2f}%\".format(name, error_rate*100))\n",
    "    return trained_pipe"
   ]
  },
  {
   "cell_type": "code",
   "execution_count": 9,
   "metadata": {
    "ExecuteTime": {
     "end_time": "2020-06-19T18:40:46.649182Z",
     "start_time": "2020-06-19T18:40:46.600373Z"
    },
    "scrolled": true
   },
   "outputs": [
    {
     "name": "stdout",
     "output_type": "stream",
     "text": [
      "Model: \"sequential_1\"\n",
      "_________________________________________________________________\n",
      "Layer (type)                 Output Shape              Param #   \n",
      "=================================================================\n",
      "reshape_1 (Reshape)          (None, 784)               0         \n",
      "_________________________________________________________________\n",
      "dense_2 (Dense)              (None, 1000)              785000    \n",
      "_________________________________________________________________\n",
      "dense_3 (Dense)              (None, 10)                10010     \n",
      "=================================================================\n",
      "Total params: 795,010\n",
      "Trainable params: 795,010\n",
      "Non-trainable params: 0\n",
      "_________________________________________________________________\n"
     ]
    }
   ],
   "source": [
    "# Build tensorflow model.\n",
    "one_layer_simple_model = tf.keras.Sequential([\n",
    "    tf.keras.layers.Reshape((28*28,), input_shape=(28,28)),\n",
    "    tf.keras.layers.Dense(1000, activation='relu'),\n",
    "    tf.keras.layers.Dense(10, activation='softmax')\n",
    "])\n",
    "\n",
    "one_layer_simple_model.summary()\n",
    "one_layer_simple_model.compile(optimizer='Adam', loss='categorical_crossentropy')"
   ]
  },
  {
   "cell_type": "code",
   "execution_count": 10,
   "metadata": {
    "ExecuteTime": {
     "end_time": "2020-06-19T18:46:14.486981Z",
     "start_time": "2020-06-19T18:40:50.352331Z"
    }
   },
   "outputs": [
    {
     "name": "stdout",
     "output_type": "stream",
     "text": [
      "one_layer_simple_model Error Rate: 7.60%\n"
     ]
    },
    {
     "data": {
      "text/plain": [
       "c3.KerasPipe(\n",
       " id='48b0e5fa-dd8e-46fa-ada3-5e1999d78255',\n",
       " meta=c3.Meta(\n",
       "        tenantTagId=3,\n",
       "        tenant='mnistExercise',\n",
       "        tag='dev',\n",
       "        created=datetime.datetime(2020, 6, 19, 18, 43, 19, tzinfo=datetime.timezone.utc),\n",
       "        createdBy='BA',\n",
       "        updated=datetime.datetime(2020, 6, 19, 18, 45, 19, tzinfo=datetime.timezone.utc),\n",
       "        updatedBy='BA',\n",
       "        timestamp=datetime.datetime(2020, 6, 19, 18, 45, 19, tzinfo=datetime.timezone.utc),\n",
       "        fetchInclude='[]',\n",
       "        fetchType='KerasPipe'),\n",
       " version=2,\n",
       " typeIdent='PIPE:LF:KRS',\n",
       " implType='KerasPipeV7d12',\n",
       " noTrainScore=False,\n",
       " persistedModelCategory='unidentified',\n",
       " typeVersion='7.12.4',\n",
       " untrainableOverride=False,\n",
       " technique=c3.KerasTechnique(\n",
       "             modelDef='{\"class_name\": \"Sequential\", \"config\": {\"name\": '\n",
       "                       '\"sequential_1\", \"layers\": [{\"class_name\": \"Reshape\", '\n",
       "                       '\"config\": {\"name\": \"reshape_1\", \"trainable\": true, '\n",
       "                       '\"batch_input_shape\": [null, 28, 28], \"dtype\": '\n",
       "                       '\"float32\", \"target_shape\": [784]}}, {\"class_name\": '\n",
       "                       '\"Dense\", \"config\": {\"name\": \"dense_2\", \"trainable\": '\n",
       "                       'true, \"dtype\": \"float32\", \"units\": 1000, \"activation\": '\n",
       "                       '\"relu\", \"use_bias\": true, \"kernel_initializer\": '\n",
       "                       '{\"class_name\": \"GlorotUniform\", \"config\": {\"seed\": '\n",
       "                       'null}}, \"bias_initializer\": {\"class_name\": \"Zeros\", '\n",
       "                       '\"config\": {}}, \"kernel_regularizer\": null, '\n",
       "                       '\"bias_regularizer\": null, \"activity_regularizer\": '\n",
       "                       'null, \"kernel_constraint\": null, \"bias_constraint\": '\n",
       "                       'null}}, {\"class_name\": \"Dense\", \"config\": {\"name\": '\n",
       "                       '\"dense_3\", \"trainable\": true, \"dtype\": \"float32\", '\n",
       "                       '\"units\": 10, \"activation\": \"softmax\", \"use_bias\": '\n",
       "                       'true, \"kernel_initializer\": {\"class_name\": '\n",
       "                       '\"GlorotUniform\", \"config\": {\"seed\": null}}, '\n",
       "                       '\"bias_initializer\": {\"class_name\": \"Zeros\", \"config\": '\n",
       "                       '{}}, \"kernel_regularizer\": null, \"bias_regularizer\": '\n",
       "                       'null, \"activity_regularizer\": null, '\n",
       "                       '\"kernel_constraint\": null, \"bias_constraint\": '\n",
       "                       'null}}]}, \"keras_version\": \"2.2.4-tf\", \"backend\": '\n",
       "                       '\"tensorflow\"}',\n",
       "             batchSize=32,\n",
       "             numEpochs=10,\n",
       "             loss=c3.KerasLoss(\n",
       "                    config={'reduction': 'sum_over_batch_size'},\n",
       "                    name='categorical_crossentropy'),\n",
       "             optimizer=c3.KerasOptimizer(\n",
       "                         className='Adam',\n",
       "                         config={'amsgrad': False,\n",
       "                                  'beta_1': 0.8999999761581421,\n",
       "                                  'beta_2': 0.9990000128746033,\n",
       "                                  'decay': 0,\n",
       "                                  'epsilon': 1e-07,\n",
       "                                  'learning_rate': 0.0010000000474974513},\n",
       "                         name='Adam'),\n",
       "             warmStart=False,\n",
       "             shuffle=False,\n",
       "             stepsPerEpoch=100,\n",
       "             cacheOnLocalClientStorage=True,\n",
       "             lossChanged=False,\n",
       "             optimizerChanged=False,\n",
       "             metricsChanged=False),\n",
       " trainedModel=c3.MLTrainedModelArtifact(\n",
       "                modelFile=c3.File(\n",
       "                            url='c3fs:///ml/models/KerasPipe/48b0e5fa-dd8e-46fa-ada3-5e1999d78255/kerasModelDef.h5'),\n",
       "                description='Keras model created on '\n",
       "                             '2020-06-19T18:45:19.266517'),\n",
       " progress=c3.DeepLearningTrainingProgress(\n",
       "            id='f587b9a8-e7f6-4068-bf55-acef0a3b8ecc'))"
      ]
     },
     "execution_count": 10,
     "metadata": {},
     "output_type": "execute_result"
    }
   ],
   "source": [
    "train_and_test_model('one_layer_simple_model', one_layer_simple_model,\n",
    "                     mnist_train_images, mnist_train_labels_onehot,\n",
    "                     mnist_test_images, mnist_test_labels_onehot)"
   ]
  },
  {
   "cell_type": "code",
   "execution_count": 11,
   "metadata": {
    "ExecuteTime": {
     "end_time": "2020-06-19T18:46:14.535924Z",
     "start_time": "2020-06-19T18:46:14.488455Z"
    }
   },
   "outputs": [
    {
     "name": "stdout",
     "output_type": "stream",
     "text": [
      "Model: \"sequential_2\"\n",
      "_________________________________________________________________\n",
      "Layer (type)                 Output Shape              Param #   \n",
      "=================================================================\n",
      "reshape_2 (Reshape)          (None, 784)               0         \n",
      "_________________________________________________________________\n",
      "dense_4 (Dense)              (None, 1000)              785000    \n",
      "_________________________________________________________________\n",
      "dense_5 (Dense)              (None, 1000)              1001000   \n",
      "_________________________________________________________________\n",
      "dense_6 (Dense)              (None, 10)                10010     \n",
      "=================================================================\n",
      "Total params: 1,796,010\n",
      "Trainable params: 1,796,010\n",
      "Non-trainable params: 0\n",
      "_________________________________________________________________\n"
     ]
    }
   ],
   "source": [
    "# Build tensorflow model.\n",
    "two_layer_simple_model = tf.keras.Sequential([\n",
    "    tf.keras.layers.Reshape((28*28,), input_shape=(28,28)),\n",
    "    tf.keras.layers.Dense(1000, activation='relu'),\n",
    "    tf.keras.layers.Dense(1000, activation='relu'),\n",
    "    tf.keras.layers.Dense(10, activation='softmax')\n",
    "])\n",
    "\n",
    "two_layer_simple_model.summary()\n",
    "two_layer_simple_model.compile(optimizer='Adam', loss='categorical_crossentropy')"
   ]
  },
  {
   "cell_type": "code",
   "execution_count": 12,
   "metadata": {
    "ExecuteTime": {
     "end_time": "2020-06-19T18:51:40.957626Z",
     "start_time": "2020-06-19T18:46:14.537421Z"
    }
   },
   "outputs": [
    {
     "name": "stdout",
     "output_type": "stream",
     "text": [
      "two_layer_simple_model Error Rate: 6.50%\n"
     ]
    },
    {
     "data": {
      "text/plain": [
       "c3.KerasPipe(\n",
       " id='4e241871-0d82-4a37-82f3-ec898ddb253d',\n",
       " meta=c3.Meta(\n",
       "        tenantTagId=3,\n",
       "        tenant='mnistExercise',\n",
       "        tag='dev',\n",
       "        created=datetime.datetime(2020, 6, 19, 18, 48, 44, tzinfo=datetime.timezone.utc),\n",
       "        createdBy='BA',\n",
       "        updated=datetime.datetime(2020, 6, 19, 18, 50, 44, tzinfo=datetime.timezone.utc),\n",
       "        updatedBy='BA',\n",
       "        timestamp=datetime.datetime(2020, 6, 19, 18, 50, 44, tzinfo=datetime.timezone.utc),\n",
       "        fetchInclude='[]',\n",
       "        fetchType='KerasPipe'),\n",
       " version=2,\n",
       " typeIdent='PIPE:LF:KRS',\n",
       " implType='KerasPipeV7d12',\n",
       " noTrainScore=False,\n",
       " persistedModelCategory='unidentified',\n",
       " typeVersion='7.12.4',\n",
       " untrainableOverride=False,\n",
       " technique=c3.KerasTechnique(\n",
       "             modelDef='{\"class_name\": \"Sequential\", \"config\": {\"name\": '\n",
       "                       '\"sequential_2\", \"layers\": [{\"class_name\": \"Reshape\", '\n",
       "                       '\"config\": {\"name\": \"reshape_2\", \"trainable\": true, '\n",
       "                       '\"batch_input_shape\": [null, 28, 28], \"dtype\": '\n",
       "                       '\"float32\", \"target_shape\": [784]}}, {\"class_name\": '\n",
       "                       '\"Dense\", \"config\": {\"name\": \"dense_4\", \"trainable\": '\n",
       "                       'true, \"dtype\": \"float32\", \"units\": 1000, \"activation\": '\n",
       "                       '\"relu\", \"use_bias\": true, \"kernel_initializer\": '\n",
       "                       '{\"class_name\": \"GlorotUniform\", \"config\": {\"seed\": '\n",
       "                       'null}}, \"bias_initializer\": {\"class_name\": \"Zeros\", '\n",
       "                       '\"config\": {}}, \"kernel_regularizer\": null, '\n",
       "                       '\"bias_regularizer\": null, \"activity_regularizer\": '\n",
       "                       'null, \"kernel_constraint\": null, \"bias_constraint\": '\n",
       "                       'null}}, {\"class_name\": \"Dense\", \"config\": {\"name\": '\n",
       "                       '\"dense_5\", \"trainable\": true, \"dtype\": \"float32\", '\n",
       "                       '\"units\": 1000, \"activation\": \"relu\", \"use_bias\": true, '\n",
       "                       '\"kernel_initializer\": {\"class_name\": \"GlorotUniform\", '\n",
       "                       '\"config\": {\"seed\": null}}, \"bias_initializer\": '\n",
       "                       '{\"class_name\": \"Zeros\", \"config\": {}}, '\n",
       "                       '\"kernel_regularizer\": null, \"bias_regularizer\": null, '\n",
       "                       '\"activity_regularizer\": null, \"kernel_constraint\": '\n",
       "                       'null, \"bias_constraint\": null}}, {\"class_name\": '\n",
       "                       '\"Dense\", \"config\": {\"name\": \"dense_6\", \"trainable\": '\n",
       "                       'true, \"dtype\": \"float32\", \"units\": 10, \"activation\": '\n",
       "                       '\"softmax\", \"use_bias\": true, \"kernel_initializer\": '\n",
       "                       '{\"class_name\": \"GlorotUniform\", \"config\": {\"seed\": '\n",
       "                       'null}}, \"bias_initializer\": {\"class_name\": \"Zeros\", '\n",
       "                       '\"config\": {}}, \"kernel_regularizer\": null, '\n",
       "                       '\"bias_regularizer\": null, \"activity_regularizer\": '\n",
       "                       'null, \"kernel_constraint\": null, \"bias_constraint\": '\n",
       "                       'null}}]}, \"keras_version\": \"2.2.4-tf\", \"backend\": '\n",
       "                       '\"tensorflow\"}',\n",
       "             batchSize=32,\n",
       "             numEpochs=10,\n",
       "             loss=c3.KerasLoss(\n",
       "                    config={'reduction': 'sum_over_batch_size'},\n",
       "                    name='categorical_crossentropy'),\n",
       "             optimizer=c3.KerasOptimizer(\n",
       "                         className='Adam',\n",
       "                         config={'amsgrad': False,\n",
       "                                  'beta_1': 0.8999999761581421,\n",
       "                                  'beta_2': 0.9990000128746033,\n",
       "                                  'decay': 0,\n",
       "                                  'epsilon': 1e-07,\n",
       "                                  'learning_rate': 0.0010000000474974513},\n",
       "                         name='Adam'),\n",
       "             warmStart=False,\n",
       "             shuffle=False,\n",
       "             stepsPerEpoch=100,\n",
       "             cacheOnLocalClientStorage=True,\n",
       "             lossChanged=False,\n",
       "             optimizerChanged=False,\n",
       "             metricsChanged=False),\n",
       " trainedModel=c3.MLTrainedModelArtifact(\n",
       "                modelFile=c3.File(\n",
       "                            url='c3fs:///ml/models/KerasPipe/4e241871-0d82-4a37-82f3-ec898ddb253d/kerasModelDef.h5'),\n",
       "                description='Keras model created on '\n",
       "                             '2020-06-19T18:50:44.199752'),\n",
       " progress=c3.DeepLearningTrainingProgress(\n",
       "            id='2f1c37a5-98a3-4e28-a9be-728df3fb8949'))"
      ]
     },
     "execution_count": 12,
     "metadata": {},
     "output_type": "execute_result"
    }
   ],
   "source": [
    "train_and_test_model('two_layer_simple_model', two_layer_simple_model,\n",
    "                     mnist_train_images, mnist_train_labels_onehot,\n",
    "                     mnist_test_images, mnist_test_labels_onehot)"
   ]
  },
  {
   "cell_type": "code",
   "execution_count": 13,
   "metadata": {
    "ExecuteTime": {
     "end_time": "2020-06-19T18:51:41.014363Z",
     "start_time": "2020-06-19T18:51:40.958979Z"
    }
   },
   "outputs": [
    {
     "name": "stdout",
     "output_type": "stream",
     "text": [
      "Model: \"sequential_3\"\n",
      "_________________________________________________________________\n",
      "Layer (type)                 Output Shape              Param #   \n",
      "=================================================================\n",
      "reshape_3 (Reshape)          (None, 28, 28, 1)         0         \n",
      "_________________________________________________________________\n",
      "conv2d (Conv2D)              (None, 26, 26, 32)        320       \n",
      "_________________________________________________________________\n",
      "flatten (Flatten)            (None, 21632)             0         \n",
      "_________________________________________________________________\n",
      "dense_7 (Dense)              (None, 10)                216330    \n",
      "=================================================================\n",
      "Total params: 216,650\n",
      "Trainable params: 216,650\n",
      "Non-trainable params: 0\n",
      "_________________________________________________________________\n"
     ]
    }
   ],
   "source": [
    "one_layer_cnn_model = tf.keras.Sequential([\n",
    "    tf.keras.layers.Reshape((28,28,1), input_shape=(28,28)),\n",
    "    tf.keras.layers.Conv2D(32, kernel_size=(3,3),\n",
    "                           activation='relu'),\n",
    "    tf.keras.layers.Flatten(),\n",
    "    tf.keras.layers.Dense(10, activation='softmax')\n",
    "])\n",
    "\n",
    "one_layer_cnn_model.summary()\n",
    "one_layer_cnn_model.compile(optimizer='Adam', loss='categorical_crossentropy')"
   ]
  },
  {
   "cell_type": "code",
   "execution_count": 14,
   "metadata": {
    "ExecuteTime": {
     "end_time": "2020-06-19T18:57:02.842811Z",
     "start_time": "2020-06-19T18:51:41.015746Z"
    }
   },
   "outputs": [
    {
     "name": "stdout",
     "output_type": "stream",
     "text": [
      "one_layer_cnn_model Error Rate: 5.00%\n"
     ]
    },
    {
     "data": {
      "text/plain": [
       "c3.KerasPipe(\n",
       " id='6a4f4628-93eb-402b-a42e-38c7a3db837b',\n",
       " meta=c3.Meta(\n",
       "        tenantTagId=3,\n",
       "        tenant='mnistExercise',\n",
       "        tag='dev',\n",
       "        created=datetime.datetime(2020, 6, 19, 18, 54, 11, tzinfo=datetime.timezone.utc),\n",
       "        createdBy='BA',\n",
       "        updated=datetime.datetime(2020, 6, 19, 18, 56, 8, tzinfo=datetime.timezone.utc),\n",
       "        updatedBy='BA',\n",
       "        timestamp=datetime.datetime(2020, 6, 19, 18, 56, 8, tzinfo=datetime.timezone.utc),\n",
       "        fetchInclude='[]',\n",
       "        fetchType='KerasPipe'),\n",
       " version=2,\n",
       " typeIdent='PIPE:LF:KRS',\n",
       " implType='KerasPipeV7d12',\n",
       " noTrainScore=False,\n",
       " persistedModelCategory='unidentified',\n",
       " typeVersion='7.12.4',\n",
       " untrainableOverride=False,\n",
       " technique=c3.KerasTechnique(\n",
       "             modelDef='{\"class_name\": \"Sequential\", \"config\": {\"name\": '\n",
       "                       '\"sequential_3\", \"layers\": [{\"class_name\": \"Reshape\", '\n",
       "                       '\"config\": {\"name\": \"reshape_3\", \"trainable\": true, '\n",
       "                       '\"batch_input_shape\": [null, 28, 28], \"dtype\": '\n",
       "                       '\"float32\", \"target_shape\": [28, 28, 1]}}, '\n",
       "                       '{\"class_name\": \"Conv2D\", \"config\": {\"name\": \"conv2d\", '\n",
       "                       '\"trainable\": true, \"dtype\": \"float32\", \"filters\": 32, '\n",
       "                       '\"kernel_size\": [3, 3], \"strides\": [1, 1], \"padding\": '\n",
       "                       '\"valid\", \"data_format\": \"channels_last\", '\n",
       "                       '\"dilation_rate\": [1, 1], \"activation\": \"relu\", '\n",
       "                       '\"use_bias\": true, \"kernel_initializer\": {\"class_name\": '\n",
       "                       '\"GlorotUniform\", \"config\": {\"seed\": null}}, '\n",
       "                       '\"bias_initializer\": {\"class_name\": \"Zeros\", \"config\": '\n",
       "                       '{}}, \"kernel_regularizer\": null, \"bias_regularizer\": '\n",
       "                       'null, \"activity_regularizer\": null, '\n",
       "                       '\"kernel_constraint\": null, \"bias_constraint\": null}}, '\n",
       "                       '{\"class_name\": \"Flatten\", \"config\": {\"name\": '\n",
       "                       '\"flatten\", \"trainable\": true, \"dtype\": \"float32\", '\n",
       "                       '\"data_format\": \"channels_last\"}}, {\"class_name\": '\n",
       "                       '\"Dense\", \"config\": {\"name\": \"dense_7\", \"trainable\": '\n",
       "                       'true, \"dtype\": \"float32\", \"units\": 10, \"activation\": '\n",
       "                       '\"softmax\", \"use_bias\": true, \"kernel_initializer\": '\n",
       "                       '{\"class_name\": \"GlorotUniform\", \"config\": {\"seed\": '\n",
       "                       'null}}, \"bias_initializer\": {\"class_name\": \"Zeros\", '\n",
       "                       '\"config\": {}}, \"kernel_regularizer\": null, '\n",
       "                       '\"bias_regularizer\": null, \"activity_regularizer\": '\n",
       "                       'null, \"kernel_constraint\": null, \"bias_constraint\": '\n",
       "                       'null}}]}, \"keras_version\": \"2.2.4-tf\", \"backend\": '\n",
       "                       '\"tensorflow\"}',\n",
       "             batchSize=32,\n",
       "             numEpochs=10,\n",
       "             loss=c3.KerasLoss(\n",
       "                    config={'reduction': 'sum_over_batch_size'},\n",
       "                    name='categorical_crossentropy'),\n",
       "             optimizer=c3.KerasOptimizer(\n",
       "                         className='Adam',\n",
       "                         config={'amsgrad': False,\n",
       "                                  'beta_1': 0.8999999761581421,\n",
       "                                  'beta_2': 0.9990000128746033,\n",
       "                                  'decay': 0,\n",
       "                                  'epsilon': 1e-07,\n",
       "                                  'learning_rate': 0.0010000000474974513},\n",
       "                         name='Adam'),\n",
       "             warmStart=False,\n",
       "             shuffle=False,\n",
       "             stepsPerEpoch=100,\n",
       "             cacheOnLocalClientStorage=True,\n",
       "             lossChanged=False,\n",
       "             optimizerChanged=False,\n",
       "             metricsChanged=False),\n",
       " trainedModel=c3.MLTrainedModelArtifact(\n",
       "                modelFile=c3.File(\n",
       "                            url='c3fs:///ml/models/KerasPipe/6a4f4628-93eb-402b-a42e-38c7a3db837b/kerasModelDef.h5'),\n",
       "                description='Keras model created on '\n",
       "                             '2020-06-19T18:56:08.284949'),\n",
       " progress=c3.DeepLearningTrainingProgress(\n",
       "            id='ed6bd9bf-ccb9-44dc-b246-d0deb330cf1f'))"
      ]
     },
     "execution_count": 14,
     "metadata": {},
     "output_type": "execute_result"
    }
   ],
   "source": [
    "train_and_test_model('one_layer_cnn_model', one_layer_cnn_model,\n",
    "                     mnist_train_images, mnist_train_labels_onehot,\n",
    "                     mnist_test_images, mnist_test_labels_onehot)"
   ]
  },
  {
   "cell_type": "code",
   "execution_count": 15,
   "metadata": {
    "ExecuteTime": {
     "end_time": "2020-06-19T18:57:02.943301Z",
     "start_time": "2020-06-19T18:57:02.845778Z"
    }
   },
   "outputs": [
    {
     "name": "stdout",
     "output_type": "stream",
     "text": [
      "Model: \"sequential_4\"\n",
      "_________________________________________________________________\n",
      "Layer (type)                 Output Shape              Param #   \n",
      "=================================================================\n",
      "reshape_4 (Reshape)          (None, 28, 28, 1)         0         \n",
      "_________________________________________________________________\n",
      "conv2d_1 (Conv2D)            (None, 26, 26, 32)        320       \n",
      "_________________________________________________________________\n",
      "conv2d_2 (Conv2D)            (None, 24, 24, 64)        18496     \n",
      "_________________________________________________________________\n",
      "max_pooling2d (MaxPooling2D) (None, 12, 12, 64)        0         \n",
      "_________________________________________________________________\n",
      "dropout (Dropout)            (None, 12, 12, 64)        0         \n",
      "_________________________________________________________________\n",
      "flatten_1 (Flatten)          (None, 9216)              0         \n",
      "_________________________________________________________________\n",
      "dense_8 (Dense)              (None, 125)               1152125   \n",
      "_________________________________________________________________\n",
      "dropout_1 (Dropout)          (None, 125)               0         \n",
      "_________________________________________________________________\n",
      "dense_9 (Dense)              (None, 10)                1260      \n",
      "=================================================================\n",
      "Total params: 1,172,201\n",
      "Trainable params: 1,172,201\n",
      "Non-trainable params: 0\n",
      "_________________________________________________________________\n"
     ]
    }
   ],
   "source": [
    "three_layer_cnn_model = tf.keras.Sequential([\n",
    "    tf.keras.layers.Reshape((28,28,1), input_shape=(28,28)),\n",
    "    tf.keras.layers.Conv2D(32, kernel_size=(3,3),\n",
    "                           activation='relu'),\n",
    "    tf.keras.layers.Conv2D(64, kernel_size=(3,3),\n",
    "                           activation='relu'),\n",
    "    tf.keras.layers.MaxPooling2D(pool_size=(2,2)),\n",
    "    tf.keras.layers.Dropout(0.25),\n",
    "    tf.keras.layers.Flatten(),\n",
    "    tf.keras.layers.Dense(125, activation='relu'),\n",
    "    tf.keras.layers.Dropout(0.5),\n",
    "    tf.keras.layers.Dense(10, activation='softmax')\n",
    "])\n",
    "\n",
    "three_layer_cnn_model.summary()\n",
    "three_layer_cnn_model.compile(optimizer='Adam', loss='categorical_crossentropy')"
   ]
  },
  {
   "cell_type": "code",
   "execution_count": 16,
   "metadata": {
    "ExecuteTime": {
     "end_time": "2020-06-19T19:02:46.251802Z",
     "start_time": "2020-06-19T18:57:02.945027Z"
    }
   },
   "outputs": [
    {
     "name": "stdout",
     "output_type": "stream",
     "text": [
      "three_layer_cnn_model Error Rate: 2.89%\n"
     ]
    },
    {
     "data": {
      "text/plain": [
       "c3.KerasPipe(\n",
       " id='f105bd4e-65e9-4924-aa75-fa7bd7641ae2',\n",
       " meta=c3.Meta(\n",
       "        tenantTagId=3,\n",
       "        tenant='mnistExercise',\n",
       "        tag='dev',\n",
       "        created=datetime.datetime(2020, 6, 19, 18, 59, 32, tzinfo=datetime.timezone.utc),\n",
       "        createdBy='BA',\n",
       "        updated=datetime.datetime(2020, 6, 19, 19, 1, 50, tzinfo=datetime.timezone.utc),\n",
       "        updatedBy='BA',\n",
       "        timestamp=datetime.datetime(2020, 6, 19, 19, 1, 50, tzinfo=datetime.timezone.utc),\n",
       "        fetchInclude='[]',\n",
       "        fetchType='KerasPipe'),\n",
       " version=2,\n",
       " typeIdent='PIPE:LF:KRS',\n",
       " implType='KerasPipeV7d12',\n",
       " noTrainScore=False,\n",
       " persistedModelCategory='unidentified',\n",
       " typeVersion='7.12.4',\n",
       " untrainableOverride=False,\n",
       " technique=c3.KerasTechnique(\n",
       "             modelDef='{\"class_name\": \"Sequential\", \"config\": {\"name\": '\n",
       "                       '\"sequential_4\", \"layers\": [{\"class_name\": \"Reshape\", '\n",
       "                       '\"config\": {\"name\": \"reshape_4\", \"trainable\": true, '\n",
       "                       '\"batch_input_shape\": [null, 28, 28], \"dtype\": '\n",
       "                       '\"float32\", \"target_shape\": [28, 28, 1]}}, '\n",
       "                       '{\"class_name\": \"Conv2D\", \"config\": {\"name\": '\n",
       "                       '\"conv2d_1\", \"trainable\": true, \"dtype\": \"float32\", '\n",
       "                       '\"filters\": 32, \"kernel_size\": [3, 3], \"strides\": [1, '\n",
       "                       '1], \"padding\": \"valid\", \"data_format\": '\n",
       "                       '\"channels_last\", \"dilation_rate\": [1, 1], '\n",
       "                       '\"activation\": \"relu\", \"use_bias\": true, '\n",
       "                       '\"kernel_initializer\": {\"class_name\": \"GlorotUniform\", '\n",
       "                       '\"config\": {\"seed\": null}}, \"bias_initializer\": '\n",
       "                       '{\"class_name\": \"Zeros\", \"config\": {}}, '\n",
       "                       '\"kernel_regularizer\": null, \"bias_regularizer\": null, '\n",
       "                       '\"activity_regularizer\": null, \"kernel_constraint\": '\n",
       "                       'null, \"bias_constraint\": null}}, {\"class_name\": '\n",
       "                       '\"Conv2D\", \"config\": {\"name\": \"conv2d_2\", \"trainable\": '\n",
       "                       'true, \"dtype\": \"float32\", \"filters\": 64, '\n",
       "                       '\"kernel_size\": [3, 3], \"strides\": [1, 1], \"padding\": '\n",
       "                       '\"valid\", \"data_format\": \"channels_last\", '\n",
       "                       '\"dilation_rate\": [1, 1], \"activation\": \"relu\", '\n",
       "                       '\"use_bias\": true, \"kernel_initializer\": {\"class_name\": '\n",
       "                       '\"GlorotUniform\", \"config\": {\"seed\": null}}, '\n",
       "                       '\"bias_initializer\": {\"class_name\": \"Zeros\", \"config\": '\n",
       "                       '{}}, \"kernel_regularizer\": null, \"bias_regularizer\": '\n",
       "                       'null, \"activity_regularizer\": null, '\n",
       "                       '\"kernel_constraint\": null, \"bias_constraint\": null}}, '\n",
       "                       '{\"class_name\": \"MaxPooling2D\", \"config\": {\"name\": '\n",
       "                       '\"max_pooling2d\", \"trainable\": true, \"dtype\": '\n",
       "                       '\"float32\", \"pool_size\": [2, 2], \"padding\": \"valid\", '\n",
       "                       '\"strides\": [2, 2], \"data_format\": \"channels_last\"}}, '\n",
       "                       '{\"class_name\": \"Dropout\", \"config\": {\"name\": '\n",
       "                       '\"dropout\", \"trainable\": true, \"dtype\": \"float32\", '\n",
       "                       '\"rate\": 0.25, \"noise_shape\": null, \"seed\": null}}, '\n",
       "                       '{\"class_name\": \"Flatten\", \"config\": {\"name\": '\n",
       "                       '\"flatten_1\", \"trainable\": true, \"dtype\": \"float32\", '\n",
       "                       '\"data_format\": \"channels_last\"}}, {\"class_name\": '\n",
       "                       '\"Dense\", \"config\": {\"name\": \"dense_8\", \"trainable\": '\n",
       "                       'true, \"dtype\": \"float32\", \"units\": 125, \"activation\": '\n",
       "                       '\"relu\", \"use_bias\": true, \"kernel_initializer\": '\n",
       "                       '{\"class_name\": \"GlorotUniform\", \"config\": {\"seed\": '\n",
       "                       'null}}, \"bias_initializer\": {\"class_name\": \"Zeros\", '\n",
       "                       '\"config\": {}}, \"kernel_regularizer\": null, '\n",
       "                       '\"bias_regularizer\": null, \"activity_regularizer\": '\n",
       "                       'null, \"kernel_constraint\": null, \"bias_constraint\": '\n",
       "                       'null}}, {\"class_name\": \"Dropout\", \"config\": {\"name\": '\n",
       "                       '\"dropout_1\", \"trainable\": true, \"dtype\": \"float32\", '\n",
       "                       '\"rate\": 0.5, \"noise_shape\": null, \"seed\": null}}, '\n",
       "                       '{\"class_name\": \"Dense\", \"config\": {\"name\": \"dense_9\", '\n",
       "                       '\"trainable\": true, \"dtype\": \"float32\", \"units\": 10, '\n",
       "                       '\"activation\": \"softmax\", \"use_bias\": true, '\n",
       "                       '\"kernel_initializer\": {\"class_name\": \"GlorotUniform\", '\n",
       "                       '\"config\": {\"seed\": null}}, \"bias_initializer\": '\n",
       "                       '{\"class_name\": \"Zeros\", \"config\": {}}, '\n",
       "                       '\"kernel_regularizer\": null, \"bias_regularizer\": null, '\n",
       "                       '\"activity_regularizer\": null, \"kernel_constraint\": '\n",
       "                       'null, \"bias_constraint\": null}}]}, \"keras_version\": '\n",
       "                       '\"2.2.4-tf\", \"backend\": \"tensorflow\"}',\n",
       "             batchSize=32,\n",
       "             numEpochs=10,\n",
       "             loss=c3.KerasLoss(\n",
       "                    config={'reduction': 'sum_over_batch_size'},\n",
       "                    name='categorical_crossentropy'),\n",
       "             optimizer=c3.KerasOptimizer(\n",
       "                         className='Adam',\n",
       "                         config={'amsgrad': False,\n",
       "                                  'beta_1': 0.8999999761581421,\n",
       "                                  'beta_2': 0.9990000128746033,\n",
       "                                  'decay': 0,\n",
       "                                  'epsilon': 1e-07,\n",
       "                                  'learning_rate': 0.0010000000474974513},\n",
       "                         name='Adam'),\n",
       "             warmStart=False,\n",
       "             shuffle=False,\n",
       "             stepsPerEpoch=100,\n",
       "             cacheOnLocalClientStorage=True,\n",
       "             lossChanged=False,\n",
       "             optimizerChanged=False,\n",
       "             metricsChanged=False),\n",
       " trainedModel=c3.MLTrainedModelArtifact(\n",
       "                modelFile=c3.File(\n",
       "                            url='c3fs:///ml/models/KerasPipe/f105bd4e-65e9-4924-aa75-fa7bd7641ae2/kerasModelDef.h5'),\n",
       "                description='Keras model created on '\n",
       "                             '2020-06-19T19:01:50.600852'),\n",
       " progress=c3.DeepLearningTrainingProgress(\n",
       "            id='18531cfb-6303-4850-8fec-5a6e6cea383c'))"
      ]
     },
     "execution_count": 16,
     "metadata": {},
     "output_type": "execute_result"
    }
   ],
   "source": [
    "train_and_test_model('three_layer_cnn_model', three_layer_cnn_model,\n",
    "                     mnist_train_images, mnist_train_labels_onehot,\n",
    "                     mnist_test_images, mnist_test_labels_onehot)"
   ]
  },
  {
   "cell_type": "code",
   "execution_count": null,
   "metadata": {},
   "outputs": [],
   "source": []
  }
 ],
 "metadata": {
  "kernelspec": {
   "display_name": "Python 3",
   "language": "python",
   "name": "python3"
  },
  "language_info": {
   "codemirror_mode": {
    "name": "ipython",
    "version": 3
   },
   "file_extension": ".py",
   "mimetype": "text/x-python",
   "name": "python",
   "nbconvert_exporter": "python",
   "pygments_lexer": "ipython3",
   "version": "3.6.10"
  }
 },
 "nbformat": 4,
 "nbformat_minor": 4
}

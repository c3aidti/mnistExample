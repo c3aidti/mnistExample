{
 "cells": [
  {
   "cell_type": "code",
   "execution_count": null,
   "metadata": {
    "ExecuteTime": {
     "end_time": "2020-07-22T17:58:42.907352Z",
     "start_time": "2020-07-22T17:58:32.615270Z"
    }
   },
   "outputs": [],
   "source": [
    "try:\n",
    "    # Check whether the c3 object is defined\n",
    "    c3\n",
    "except NameError:\n",
    "    # Connect to a c3 cluster and create the c3 object\n",
    "    from c3python import get_c3\n",
    "    c3 = get_c3('<vanity_url>', '<tenant>', '<tag>')"
   ]
  },
  {
   "cell_type": "code",
   "execution_count": 73,
   "metadata": {
    "ExecuteTime": {
     "end_time": "2020-08-10T21:18:39.077549Z",
     "start_time": "2020-08-10T21:18:29.015445Z"
    }
   },
   "outputs": [
    {
     "name": "stdout",
     "output_type": "stream",
     "text": [
      "Username: BA\n",
      "Password: ········\n"
     ]
    }
   ],
   "source": [
    "#try:\n",
    "#    # Check whether the c3 object is defined\n",
    "#    c3\n",
    "#except NameError:\n",
    "    # Connect to a c3 cluster and create the c3 object\n",
    "    from c3python import get_c3\n",
    "    c3 = get_c3('http://192.168.2.44:8080', 'mnistExercise', 'dev')"
   ]
  },
  {
   "cell_type": "code",
   "execution_count": 67,
   "metadata": {
    "ExecuteTime": {
     "end_time": "2020-08-10T20:35:28.084203Z",
     "start_time": "2020-08-10T20:35:18.972991Z"
    }
   },
   "outputs": [
    {
     "name": "stdout",
     "output_type": "stream",
     "text": [
      "Collecting package metadata (current_repodata.json): done\n",
      "Solving environment: done\n",
      "\n",
      "## Package Plan ##\n",
      "\n",
      "  environment location: /data0/matthew/Software/NCSA/C3/c3-packages/dtiTraining/mnistExample/c3/py-tensorflow_2_1_0_venv\n",
      "\n",
      "  added / updated specs:\n",
      "    - dill\n",
      "\n",
      "\n",
      "The following packages will be downloaded:\n",
      "\n",
      "    package                    |            build\n",
      "    ---------------------------|-----------------\n",
      "    dill-0.3.2                 |     pyh9f0ad1d_0          59 KB  conda-forge\n",
      "    ------------------------------------------------------------\n",
      "                                           Total:          59 KB\n",
      "\n",
      "The following NEW packages will be INSTALLED:\n",
      "\n",
      "  dill               conda-forge/noarch::dill-0.3.2-pyh9f0ad1d_0\n",
      "\n",
      "The following packages will be UPDATED:\n",
      "\n",
      "  openssl                                 1.1.1g-h516909a_0 --> 1.1.1g-h516909a_1\n",
      "\n",
      "\n",
      "\n",
      "Downloading and Extracting Packages\n",
      "dill-0.3.2           | 59 KB     | ##################################### | 100% \n",
      "Preparing transaction: done\n",
      "Verifying transaction: done\n",
      "Executing transaction: done\n"
     ]
    }
   ],
   "source": [
    "!conda install -y dill"
   ]
  },
  {
   "cell_type": "code",
   "execution_count": 74,
   "metadata": {
    "ExecuteTime": {
     "end_time": "2020-08-10T21:18:43.374764Z",
     "start_time": "2020-08-10T21:18:43.370359Z"
    }
   },
   "outputs": [],
   "source": [
    "import tensorflow as tf\n",
    "import numpy as np\n",
    "import pandas as pd\n",
    "import dill"
   ]
  },
  {
   "cell_type": "code",
   "execution_count": 75,
   "metadata": {
    "ExecuteTime": {
     "end_time": "2020-08-10T21:18:43.512498Z",
     "start_time": "2020-08-10T21:18:43.503308Z"
    }
   },
   "outputs": [],
   "source": [
    "# Define function to create one-hot labels\n",
    "def make_onehot(data):\n",
    "    Res = np.zeros((data.size, data.max()+1))\n",
    "    Res[np.arange(data.size), data.reshape((data.size,))] = 1\n",
    "    return Res.reshape(data.shape+(data.max()+1,))\n",
    "\n",
    "make_onehot_serialized = c3.PythonSerialization.serialize(make_onehot)"
   ]
  },
  {
   "cell_type": "code",
   "execution_count": 76,
   "metadata": {
    "ExecuteTime": {
     "end_time": "2020-08-10T21:19:18.932724Z",
     "start_time": "2020-08-10T21:18:44.842682Z"
    }
   },
   "outputs": [
    {
     "name": "stderr",
     "output_type": "stream",
     "text": [
      "500 - NotClassified - c3.love.util.OsUtil_err2 [7578.969]\n",
      "message: \"Error executing command: /usr/local/share/c3/condaEnvs/mnistExercise/dev/py-idxfile/bin/python /tmp/pythonActionSourceCache7700729396145615776/IDXFile_getFileSourceSpecPreprocess.py\n",
      "Traceback (most recent call last):\n",
      "  File \"/tmp/pythonActionSourceCache7700729396145615776/IDXFile_getFileSourceSpecPreprocess.py\", line 442, in <module>\n",
      "    _c3_result = getFileSourceSpecPreprocess(this = _c3_inputs.get('this'),serializedPreprocessor = _c3_inputs.get('serializedPreprocessor'),preprocessFuncName = _c3_inputs.get('preprocessFuncName'),enableLocalClientStorage = _c3_inputs.get('enableLocalClientStorage'))\n",
      "  File \"/tmp/pythonActionSourceCache7700729396145615776/IDXFile_getFileSourceSpecPreprocess.py\", line 408, in getFileSourceSpecPreprocess\n",
      "    if type(preprocess_data) is not np.ndarray:\n",
      "NameError: name 'preprocess_data' is not defined\n",
      "\"\n",
      "JSON: {\"enableLocalClientStorage\": true, \"preprocessFuncName\": \"onehot\", \"serializedPreprocessor\": \"eJxtT8tO3EAQnPE+COYVHuH9zmU5LBKLSIKEuHC0tAcjobmNBnu8NnjHLntWCmiRIqHsh/Fl9E4uQeLQM9VVXdXqP14UZ3l+KqevL6NKK6tlMjKRzQrjg3U+06Mi1j54J+ABC7ygFdx8mBpoK5W1lY+P6dmwLCorh0U8ysnfEDOMMRcW1Wj+RStEW7SJ02ZKYmaCLyFmxR1Rlj3wMXvwqBpvryzmGyzx3l75C4/5mJPanKpE0NeawoRTk3hXbMwd0f7fSUXqLYPv9uXKZuYMcxPMh1joB3yCxY7wSDEllkSLwLOuihpfRZNwnT1rLIsGwaH6jRWXoSplBhqr7qhK16kqNdac9x/+ZrHu7LGyChvOHuoamxNsiQNqrrLyyaaF6WamHNnuz4vuRXT+66zX6/2IL5NrbIs5t/FRy8LotLDYCbx01m1nfJPvc+ymdMNeiP2TE4uDEIeRlPejLKfzpPSlHCoH0p1+/wVHfYvjEN9P3wETbY+1\", \"this\": {\"type\": \"IDXFile\", \"id\": \"MNIST_Test_Labels\", \"name\": \"MNIST Test Labels\", \"meta\": {\"type\": \"Meta\", \"tenantTagId\": 3, \"tenant\": \"mnistExercise\", \"tag\": \"dev\", \"created\": \"2020-06-03T20:35:35+00:00\", \"createdBy\": \"provisioner\", \"updated\": \"2020-06-03T20:35:35+00:00\", \"updatedBy\": \"provisioner\", \"timestamp\": \"2020-06-03T20:35:35+00:00\", \"fetchInclude\": \"[]\", \"fetchType\": \"IDXFile\"}, \"version\": 1, \"url\": \"http://yann.lecun.com/exdb/mnist/t10k-labels-idx1-ubyte.gz\"}}\n"
     ]
    },
    {
     "ename": "C3RuntimeException",
     "evalue": "500 - NotClassified - c3.love.util.OsUtil_err2 [7578.969]\nmessage: \"Error executing command: /usr/local/share/c3/condaEnvs/mnistExercise/dev/py-idxfile/bin/python /tmp/pythonActionSourceCache7700729396145615776/IDXFile_getFileSourceSpecPreprocess.py\nTraceback (most recent call last):\n  File \"/tmp/pythonActionSourceCache7700729396145615776/IDXFile_getFileSourceSpecPreprocess.py\", line 442, in <module>\n    _c3_result = getFileSourceSpecPreprocess(this = _c3_inputs.get('this'),serializedPreprocessor = _c3_inputs.get('serializedPreprocessor'),preprocessFuncName = _c3_inputs.get('preprocessFuncName'),enableLocalClientStorage = _c3_inputs.get('enableLocalClientStorage'))\n  File \"/tmp/pythonActionSourceCache7700729396145615776/IDXFile_getFileSourceSpecPreprocess.py\", line 408, in getFileSourceSpecPreprocess\n    if type(preprocess_data) is not np.ndarray:\nNameError: name 'preprocess_data' is not defined\n\"\nJSON: {\"enableLocalClientStorage\": true, \"preprocessFuncName\": \"onehot\", \"serializedPreprocessor\": \"eJxtT8tO3EAQnPE+COYVHuH9zmU5LBKLSIKEuHC0tAcjobmNBnu8NnjHLntWCmiRIqHsh/Fl9E4uQeLQM9VVXdXqP14UZ3l+KqevL6NKK6tlMjKRzQrjg3U+06Mi1j54J+ABC7ygFdx8mBpoK5W1lY+P6dmwLCorh0U8ysnfEDOMMRcW1Wj+RStEW7SJ02ZKYmaCLyFmxR1Rlj3wMXvwqBpvryzmGyzx3l75C4/5mJPanKpE0NeawoRTk3hXbMwd0f7fSUXqLYPv9uXKZuYMcxPMh1joB3yCxY7wSDEllkSLwLOuihpfRZNwnT1rLIsGwaH6jRWXoSplBhqr7qhK16kqNdac9x/+ZrHu7LGyChvOHuoamxNsiQNqrrLyyaaF6WamHNnuz4vuRXT+66zX6/2IL5NrbIs5t/FRy8LotLDYCbx01m1nfJPvc+ymdMNeiP2TE4uDEIeRlPejLKfzpPSlHCoH0p1+/wVHfYvjEN9P3wETbY+1\", \"this\": {\"type\": \"IDXFile\", \"id\": \"MNIST_Test_Labels\", \"name\": \"MNIST Test Labels\", \"meta\": {\"type\": \"Meta\", \"tenantTagId\": 3, \"tenant\": \"mnistExercise\", \"tag\": \"dev\", \"created\": \"2020-06-03T20:35:35+00:00\", \"createdBy\": \"provisioner\", \"updated\": \"2020-06-03T20:35:35+00:00\", \"updatedBy\": \"provisioner\", \"timestamp\": \"2020-06-03T20:35:35+00:00\", \"fetchInclude\": \"[]\", \"fetchType\": \"IDXFile\"}, \"version\": 1, \"url\": \"http://yann.lecun.com/exdb/mnist/t10k-labels-idx1-ubyte.gz\"}}",
     "output_type": "error",
     "traceback": [
      "\u001b[0;31m---------------------------------------------------------------------------\u001b[0m",
      "\u001b[0;31mC3RuntimeException\u001b[0m                        Traceback (most recent call last)",
      "\u001b[0;32m<ipython-input-76-b0483772969c>\u001b[0m in \u001b[0;36m<module>\u001b[0;34m\u001b[0m\n\u001b[1;32m     14\u001b[0m \u001b[0;34m\u001b[0m\u001b[0m\n\u001b[1;32m     15\u001b[0m \u001b[0mmnist_test_images_spec\u001b[0m \u001b[0;34m=\u001b[0m \u001b[0mc3\u001b[0m\u001b[0;34m.\u001b[0m\u001b[0mIDXFile\u001b[0m\u001b[0;34m.\u001b[0m\u001b[0mget\u001b[0m\u001b[0;34m(\u001b[0m\u001b[0;34m'MNIST_Test_Images'\u001b[0m\u001b[0;34m)\u001b[0m\u001b[0;34m.\u001b[0m\u001b[0mgetFileSourceSpec\u001b[0m\u001b[0;34m(\u001b[0m\u001b[0;34m)\u001b[0m\u001b[0;34m\u001b[0m\u001b[0;34m\u001b[0m\u001b[0m\n\u001b[0;32m---> 16\u001b[0;31m \u001b[0mmnist_test_labels_spec\u001b[0m \u001b[0;34m=\u001b[0m \u001b[0mc3\u001b[0m\u001b[0;34m.\u001b[0m\u001b[0mIDXFile\u001b[0m\u001b[0;34m.\u001b[0m\u001b[0mget\u001b[0m\u001b[0;34m(\u001b[0m\u001b[0;34m'MNIST_Test_Labels'\u001b[0m\u001b[0;34m)\u001b[0m\u001b[0;34m.\u001b[0m\u001b[0mgetFileSourceSpecPreprocess\u001b[0m\u001b[0;34m(\u001b[0m\u001b[0mmake_onehot_serialized\u001b[0m\u001b[0;34m,\u001b[0m \u001b[0;34m'onehot'\u001b[0m\u001b[0;34m)\u001b[0m\u001b[0;34m\u001b[0m\u001b[0;34m\u001b[0m\u001b[0m\n\u001b[0m\u001b[1;32m     17\u001b[0m \u001b[0mmnist_train_images_spec\u001b[0m \u001b[0;34m=\u001b[0m \u001b[0mc3\u001b[0m\u001b[0;34m.\u001b[0m\u001b[0mIDXFile\u001b[0m\u001b[0;34m.\u001b[0m\u001b[0mget\u001b[0m\u001b[0;34m(\u001b[0m\u001b[0;34m'MNIST_Train_Images'\u001b[0m\u001b[0;34m)\u001b[0m\u001b[0;34m.\u001b[0m\u001b[0mgetFileSourceSpec\u001b[0m\u001b[0;34m(\u001b[0m\u001b[0;34m)\u001b[0m\u001b[0;34m\u001b[0m\u001b[0;34m\u001b[0m\u001b[0m\n\u001b[1;32m     18\u001b[0m \u001b[0mmnist_train_labels_spec\u001b[0m \u001b[0;34m=\u001b[0m \u001b[0mc3\u001b[0m\u001b[0;34m.\u001b[0m\u001b[0mIDXFile\u001b[0m\u001b[0;34m.\u001b[0m\u001b[0mget\u001b[0m\u001b[0;34m(\u001b[0m\u001b[0;34m'MNIST_Train_Labels'\u001b[0m\u001b[0;34m)\u001b[0m\u001b[0;34m.\u001b[0m\u001b[0mgetFileSourceSpec\u001b[0m\u001b[0;34m(\u001b[0m\u001b[0mmake_onehot_serialized\u001b[0m\u001b[0;34m,\u001b[0m \u001b[0;34m'onehot'\u001b[0m\u001b[0;34m)\u001b[0m\u001b[0;34m\u001b[0m\u001b[0;34m\u001b[0m\u001b[0m\n",
      "\u001b[0;32mZ269b4a18afdaff6a2b466ebf44ac4db5M_.TypeSystemBase\u001b[0m in \u001b[0;36mgetFileSourceSpecPreprocess\u001b[0;34m(this, serializedPreprocessor, preprocessFuncName, enableLocalClientStorage)\u001b[0m\n",
      "\u001b[0;32mZ269b4a18afdaff6a2b466ebf44ac4db5M_/TypeSystemBase.py\u001b[0m in \u001b[0;36m_c3_member_impl\u001b[0;34m(_typesys, ___args, this_name, method_name, defined_class_name, _invoking_class, _overload_idx)\u001b[0m\n",
      "\u001b[0;32mZ269b4a18afdaff6a2b466ebf44ac4db5M_/TypeSystemBase.py\u001b[0m in \u001b[0;36m_box_and_request_json\u001b[0;34m(self, type_name, method_name, payload, validate_args, declared_type_name, current_class)\u001b[0m\n",
      "\u001b[0;32mZ269b4a18afdaff6a2b466ebf44ac4db5M_/TypeSystemBase.py\u001b[0m in \u001b[0;36m_request_json\u001b[0;34m(self, type_name, method_name, payload)\u001b[0m\n",
      "\u001b[0;32mZ269b4a18afdaff6a2b466ebf44ac4db5M_/ServerConnection.py\u001b[0m in \u001b[0;36m_request_json\u001b[0;34m(self, type_name, action_name, payload, extra_headers, encoder, client_side_type_inference)\u001b[0m\n",
      "\u001b[0;31mC3RuntimeException\u001b[0m: 500 - NotClassified - c3.love.util.OsUtil_err2 [7578.969]\nmessage: \"Error executing command: /usr/local/share/c3/condaEnvs/mnistExercise/dev/py-idxfile/bin/python /tmp/pythonActionSourceCache7700729396145615776/IDXFile_getFileSourceSpecPreprocess.py\nTraceback (most recent call last):\n  File \"/tmp/pythonActionSourceCache7700729396145615776/IDXFile_getFileSourceSpecPreprocess.py\", line 442, in <module>\n    _c3_result = getFileSourceSpecPreprocess(this = _c3_inputs.get('this'),serializedPreprocessor = _c3_inputs.get('serializedPreprocessor'),preprocessFuncName = _c3_inputs.get('preprocessFuncName'),enableLocalClientStorage = _c3_inputs.get('enableLocalClientStorage'))\n  File \"/tmp/pythonActionSourceCache7700729396145615776/IDXFile_getFileSourceSpecPreprocess.py\", line 408, in getFileSourceSpecPreprocess\n    if type(preprocess_data) is not np.ndarray:\nNameError: name 'preprocess_data' is not defined\n\"\nJSON: {\"enableLocalClientStorage\": true, \"preprocessFuncName\": \"onehot\", \"serializedPreprocessor\": \"eJxtT8tO3EAQnPE+COYVHuH9zmU5LBKLSIKEuHC0tAcjobmNBnu8NnjHLntWCmiRIqHsh/Fl9E4uQeLQM9VVXdXqP14UZ3l+KqevL6NKK6tlMjKRzQrjg3U+06Mi1j54J+ABC7ygFdx8mBpoK5W1lY+P6dmwLCorh0U8ysnfEDOMMRcW1Wj+RStEW7SJ02ZKYmaCLyFmxR1Rlj3wMXvwqBpvryzmGyzx3l75C4/5mJPanKpE0NeawoRTk3hXbMwd0f7fSUXqLYPv9uXKZuYMcxPMh1joB3yCxY7wSDEllkSLwLOuihpfRZNwnT1rLIsGwaH6jRWXoSplBhqr7qhK16kqNdac9x/+ZrHu7LGyChvOHuoamxNsiQNqrrLyyaaF6WamHNnuz4vuRXT+66zX6/2IL5NrbIs5t/FRy8LotLDYCbx01m1nfJPvc+ymdMNeiP2TE4uDEIeRlPejLKfzpPSlHCoH0p1+/wVHfYvjEN9P3wETbY+1\", \"this\": {\"type\": \"IDXFile\", \"id\": \"MNIST_Test_Labels\", \"name\": \"MNIST Test Labels\", \"meta\": {\"type\": \"Meta\", \"tenantTagId\": 3, \"tenant\": \"mnistExercise\", \"tag\": \"dev\", \"created\": \"2020-06-03T20:35:35+00:00\", \"createdBy\": \"provisioner\", \"updated\": \"2020-06-03T20:35:35+00:00\", \"updatedBy\": \"provisioner\", \"timestamp\": \"2020-06-03T20:35:35+00:00\", \"fetchInclude\": \"[]\", \"fetchType\": \"IDXFile\"}, \"version\": 1, \"url\": \"http://yann.lecun.com/exdb/mnist/t10k-labels-idx1-ubyte.gz\"}}"
     ]
    }
   ],
   "source": [
    "# Load and 'reshape' datasets\n",
    "#mnist_test_images = c3.Dataset.toDataset(this=c3.IDXFile.get('MNIST_Test_Images').getDataset(),\n",
    "#                                         axesAsRow=[0], axesAsColumn=[1,2])\n",
    "#mnist_test_images.axes = ['source', 'features']\n",
    "#mnist_test_labels = c3.Dataset.toDataset(this=c3.IDXFile.get('MNIST_Test_Labels').getDataset(),\n",
    "#                                         axesAsRow=[0], axesAsColumn=[1])\n",
    "#mnist_test_labels.axes = ['source', 'features']\n",
    "#mnist_train_images = c3.Dataset.toDataset(this=c3.IDXFile.get('MNIST_Train_Images').getDataset(),\n",
    "#                                          axesAsRow=[0], axesAsColumn=[1,2])\n",
    "#mnist_train_images.axes = ['source', 'features']\n",
    "#mnist_train_labels = c3.Dataset.toDataset(this=c3.IDXFile.get('MNIST_Train_Labels').getDataset(),\n",
    "#                                          axesAsRow=[0], axesAsColumn=[1])\n",
    "#mnist_train_labels.axes = ['source', 'features']\n",
    "\n",
    "mnist_test_images_spec = c3.IDXFile.get('MNIST_Test_Images').getFileSourceSpec()\n",
    "mnist_test_labels_spec = c3.IDXFile.get('MNIST_Test_Labels').getFileSourceSpecPreprocess(make_onehot_serialized, 'onehot')\n",
    "mnist_train_images_spec = c3.IDXFile.get('MNIST_Train_Images').getFileSourceSpec()\n",
    "mnist_train_labels_spec = c3.IDXFile.get('MNIST_Train_Labels').getFileSourceSpec(make_onehot_serialized, 'onehot')"
   ]
  },
  {
   "cell_type": "code",
   "execution_count": 8,
   "metadata": {
    "ExecuteTime": {
     "end_time": "2020-08-10T15:31:08.193721Z",
     "start_time": "2020-08-10T15:31:08.151210Z"
    }
   },
   "outputs": [
    {
     "data": {
      "text/plain": [
       "c3.FetchResult<FileSourceSpec>(\n",
       " objs=c3.Arry<FileSourceSpec>([c3.FileNdArraySourceSpec(\n",
       "         locationPrefix='http___yann.lecun.com_exdb_mnist_t10k-labels-idx1-ubyte.gz',\n",
       "         storageFormat='NPY',\n",
       "         optimalFileSize=64000000,\n",
       "         enableLocalClientStorage=True,\n",
       "         id='a110e642-47a8-42e3-8d5f-92114b902845',\n",
       "         meta=c3.Meta(\n",
       "                tenantTagId=3,\n",
       "                tenant='mnistExercise',\n",
       "                tag='dev',\n",
       "                created=datetime.datetime(2020, 7, 22, 18, 2, 39, tzinfo=datetime.timezone.utc),\n",
       "                createdBy='BA',\n",
       "                updated=datetime.datetime(2020, 7, 22, 18, 2, 39, tzinfo=datetime.timezone.utc),\n",
       "                updatedBy='BA',\n",
       "                timestamp=datetime.datetime(2020, 7, 22, 18, 2, 39, tzinfo=datetime.timezone.utc),\n",
       "                fetchInclude='[]',\n",
       "                fetchType='FileSourceSpec'),\n",
       "         version=2,\n",
       "         typeIdent='FISS:FNDASS',\n",
       "         location='http___yann.lecun.com_exdb_mnist_t10k-labels-idx1-ubyte.gz/FileSourceSpec/a110e642-47a8-42e3-8d5f-92114b902845'),\n",
       "        c3.FileNdArraySourceSpec(\n",
       "         locationPrefix='http___yann.lecun.com_exdb_mnist_train-labels-idx1-ubyte.gz',\n",
       "         storageFormat='NPY',\n",
       "         optimalFileSize=64000000,\n",
       "         enableLocalClientStorage=True,\n",
       "         id='e1dd1ba9-4e5e-4a70-a5ac-954945afaeb1',\n",
       "         meta=c3.Meta(\n",
       "                tenantTagId=3,\n",
       "                tenant='mnistExercise',\n",
       "                tag='dev',\n",
       "                created=datetime.datetime(2020, 7, 22, 18, 2, 42, tzinfo=datetime.timezone.utc),\n",
       "                createdBy='BA',\n",
       "                updated=datetime.datetime(2020, 7, 22, 18, 2, 42, tzinfo=datetime.timezone.utc),\n",
       "                updatedBy='BA',\n",
       "                timestamp=datetime.datetime(2020, 7, 22, 18, 2, 42, tzinfo=datetime.timezone.utc),\n",
       "                fetchInclude='[]',\n",
       "                fetchType='FileSourceSpec'),\n",
       "         version=2,\n",
       "         typeIdent='FISS:FNDASS',\n",
       "         location='http___yann.lecun.com_exdb_mnist_train-labels-idx1-ubyte.gz/FileSourceSpec/e1dd1ba9-4e5e-4a70-a5ac-954945afaeb1'),\n",
       "        c3.FileNdArraySourceSpec(\n",
       "         locationPrefix='http___yann.lecun.com_exdb_mnist_train-images-idx3-ubyte.gz',\n",
       "         storageFormat='NPY',\n",
       "         optimalFileSize=64000000,\n",
       "         enableLocalClientStorage=True,\n",
       "         id='ed29ba10-fbd3-4838-9fd0-b1095cc44af4',\n",
       "         meta=c3.Meta(\n",
       "                tenantTagId=3,\n",
       "                tenant='mnistExercise',\n",
       "                tag='dev',\n",
       "                created=datetime.datetime(2020, 7, 22, 18, 2, 41, tzinfo=datetime.timezone.utc),\n",
       "                createdBy='BA',\n",
       "                updated=datetime.datetime(2020, 7, 22, 18, 2, 41, tzinfo=datetime.timezone.utc),\n",
       "                updatedBy='BA',\n",
       "                timestamp=datetime.datetime(2020, 7, 22, 18, 2, 41, tzinfo=datetime.timezone.utc),\n",
       "                fetchInclude='[]',\n",
       "                fetchType='FileSourceSpec'),\n",
       "         version=2,\n",
       "         typeIdent='FISS:FNDASS',\n",
       "         location='http___yann.lecun.com_exdb_mnist_train-images-idx3-ubyte.gz/FileSourceSpec/ed29ba10-fbd3-4838-9fd0-b1095cc44af4'),\n",
       "        c3.FileNdArraySourceSpec(\n",
       "         locationPrefix='http___yann.lecun.com_exdb_mnist_t10k-images-idx3-ubyte.gz',\n",
       "         storageFormat='NPY',\n",
       "         optimalFileSize=64000000,\n",
       "         enableLocalClientStorage=True,\n",
       "         id='f2b147b8-3585-4d73-ba93-366d16a466ec',\n",
       "         meta=c3.Meta(\n",
       "                tenantTagId=3,\n",
       "                tenant='mnistExercise',\n",
       "                tag='dev',\n",
       "                created=datetime.datetime(2020, 7, 22, 17, 59, 19, tzinfo=datetime.timezone.utc),\n",
       "                createdBy='BA',\n",
       "                updated=datetime.datetime(2020, 7, 22, 17, 59, 19, tzinfo=datetime.timezone.utc),\n",
       "                updatedBy='BA',\n",
       "                timestamp=datetime.datetime(2020, 7, 22, 17, 59, 19, tzinfo=datetime.timezone.utc),\n",
       "                fetchInclude='[]',\n",
       "                fetchType='FileSourceSpec'),\n",
       "         version=2,\n",
       "         typeIdent='FISS:FNDASS',\n",
       "         location='http___yann.lecun.com_exdb_mnist_t10k-images-idx3-ubyte.gz/FileSourceSpec/f2b147b8-3585-4d73-ba93-366d16a466ec')]),\n",
       " count=4,\n",
       " hasMore=False)"
      ]
     },
     "execution_count": 8,
     "metadata": {},
     "output_type": "execute_result"
    }
   ],
   "source": [
    "c3.FileSourceSpec.fetch()"
   ]
  },
  {
   "cell_type": "code",
   "execution_count": 13,
   "metadata": {
    "ExecuteTime": {
     "end_time": "2020-07-22T18:36:32.500933Z",
     "start_time": "2020-07-22T18:36:32.392356Z"
    }
   },
   "outputs": [],
   "source": [
    "# Produce stream datasets\n",
    "mnist_test_images = c3.Dataset.fromNdArrayStreamable(sourceSpec=mnist_test_images_spec)\n",
    "mnist_test_labels = c3.Dataset.fromNdArrayStreamable(sourceSpec=mnist_test_labels_spec)\n",
    "mnist_train_images = c3.Dataset.fromNdArrayStreamable(sourceSpec=mnist_train_images_spec)\n",
    "mnist_train_labels = c3.Dataset.fromNdArrayStreamable(sourceSpec=mnist_train_labels_spec)"
   ]
  },
  {
   "cell_type": "code",
   "execution_count": 25,
   "metadata": {
    "ExecuteTime": {
     "end_time": "2020-07-22T19:02:59.320834Z",
     "start_time": "2020-07-22T19:02:59.316553Z"
    }
   },
   "outputs": [],
   "source": [
    "# We need to turn labels into one-hot encodings\n",
    "mnist_test_labels"
   ]
  },
  {
   "cell_type": "code",
   "execution_count": 29,
   "metadata": {
    "ExecuteTime": {
     "end_time": "2020-07-22T19:05:05.449681Z",
     "start_time": "2020-07-22T19:05:05.433134Z"
    }
   },
   "outputs": [
    {
     "data": {
      "text/plain": [
       "OneHotEncoder(categories=[0, 1, 2, 3, 4, 5, 6, 7, 8, 9])"
      ]
     },
     "execution_count": 29,
     "metadata": {},
     "output_type": "execute_result"
    }
   ],
   "source": [
    "import sklearn.preprocessing\n",
    "encoder = sklearn.preprocessing.OneHotEncoder(categories=list(range(10)))\n",
    "encoder"
   ]
  },
  {
   "cell_type": "code",
   "execution_count": 36,
   "metadata": {
    "ExecuteTime": {
     "end_time": "2020-07-22T19:16:23.130315Z",
     "start_time": "2020-07-22T19:16:23.126690Z"
    }
   },
   "outputs": [],
   "source": [
    "encoder.categories_ = encoder.categories"
   ]
  },
  {
   "cell_type": "code",
   "execution_count": 37,
   "metadata": {
    "ExecuteTime": {
     "end_time": "2020-07-22T19:16:32.092463Z",
     "start_time": "2020-07-22T19:16:32.066116Z"
    }
   },
   "outputs": [
    {
     "ename": "ValueError",
     "evalue": "Expected 2D array, got 1D array instead:\narray=[3 4 7 2 7 1 2 1 1 7 4 2 3 5 1 2 4 4 6 3 5 5 6 0 4 1 9 5 7 8 9 3].\nReshape your data either using array.reshape(-1, 1) if your data has a single feature or array.reshape(1, -1) if it contains a single sample.",
     "output_type": "error",
     "traceback": [
      "\u001b[0;31m---------------------------------------------------------------------------\u001b[0m",
      "\u001b[0;31mValueError\u001b[0m                                Traceback (most recent call last)",
      "\u001b[0;32m<ipython-input-37-3d7f6154c19c>\u001b[0m in \u001b[0;36m<module>\u001b[0;34m\u001b[0m\n\u001b[0;32m----> 1\u001b[0;31m \u001b[0mencoder\u001b[0m\u001b[0;34m.\u001b[0m\u001b[0mtransform\u001b[0m\u001b[0;34m(\u001b[0m\u001b[0mlabels\u001b[0m\u001b[0;34m)\u001b[0m\u001b[0;34m\u001b[0m\u001b[0;34m\u001b[0m\u001b[0m\n\u001b[0m",
      "\u001b[0;32m/data0/matthew/Software/NCSA/C3/c3-packages/dtiTraining/mnistExample/c3/py-tensorflow_2_1_0_venv/lib/python3.6/site-packages/sklearn/preprocessing/_encoders.py\u001b[0m in \u001b[0;36mtransform\u001b[0;34m(self, X)\u001b[0m\n\u001b[1;32m    426\u001b[0m         \u001b[0mcheck_is_fitted\u001b[0m\u001b[0;34m(\u001b[0m\u001b[0mself\u001b[0m\u001b[0;34m)\u001b[0m\u001b[0;34m\u001b[0m\u001b[0;34m\u001b[0m\u001b[0m\n\u001b[1;32m    427\u001b[0m         \u001b[0;31m# validation of X happens in _check_X called by _transform\u001b[0m\u001b[0;34m\u001b[0m\u001b[0;34m\u001b[0m\u001b[0;34m\u001b[0m\u001b[0m\n\u001b[0;32m--> 428\u001b[0;31m         \u001b[0mX_int\u001b[0m\u001b[0;34m,\u001b[0m \u001b[0mX_mask\u001b[0m \u001b[0;34m=\u001b[0m \u001b[0mself\u001b[0m\u001b[0;34m.\u001b[0m\u001b[0m_transform\u001b[0m\u001b[0;34m(\u001b[0m\u001b[0mX\u001b[0m\u001b[0;34m,\u001b[0m \u001b[0mhandle_unknown\u001b[0m\u001b[0;34m=\u001b[0m\u001b[0mself\u001b[0m\u001b[0;34m.\u001b[0m\u001b[0mhandle_unknown\u001b[0m\u001b[0;34m)\u001b[0m\u001b[0;34m\u001b[0m\u001b[0;34m\u001b[0m\u001b[0m\n\u001b[0m\u001b[1;32m    429\u001b[0m \u001b[0;34m\u001b[0m\u001b[0m\n\u001b[1;32m    430\u001b[0m         \u001b[0mn_samples\u001b[0m\u001b[0;34m,\u001b[0m \u001b[0mn_features\u001b[0m \u001b[0;34m=\u001b[0m \u001b[0mX_int\u001b[0m\u001b[0;34m.\u001b[0m\u001b[0mshape\u001b[0m\u001b[0;34m\u001b[0m\u001b[0;34m\u001b[0m\u001b[0m\n",
      "\u001b[0;32m/data0/matthew/Software/NCSA/C3/c3-packages/dtiTraining/mnistExample/c3/py-tensorflow_2_1_0_venv/lib/python3.6/site-packages/sklearn/preprocessing/_encoders.py\u001b[0m in \u001b[0;36m_transform\u001b[0;34m(self, X, handle_unknown)\u001b[0m\n\u001b[1;32m    100\u001b[0m \u001b[0;34m\u001b[0m\u001b[0m\n\u001b[1;32m    101\u001b[0m     \u001b[0;32mdef\u001b[0m \u001b[0m_transform\u001b[0m\u001b[0;34m(\u001b[0m\u001b[0mself\u001b[0m\u001b[0;34m,\u001b[0m \u001b[0mX\u001b[0m\u001b[0;34m,\u001b[0m \u001b[0mhandle_unknown\u001b[0m\u001b[0;34m=\u001b[0m\u001b[0;34m'error'\u001b[0m\u001b[0;34m)\u001b[0m\u001b[0;34m:\u001b[0m\u001b[0;34m\u001b[0m\u001b[0;34m\u001b[0m\u001b[0m\n\u001b[0;32m--> 102\u001b[0;31m         \u001b[0mX_list\u001b[0m\u001b[0;34m,\u001b[0m \u001b[0mn_samples\u001b[0m\u001b[0;34m,\u001b[0m \u001b[0mn_features\u001b[0m \u001b[0;34m=\u001b[0m \u001b[0mself\u001b[0m\u001b[0;34m.\u001b[0m\u001b[0m_check_X\u001b[0m\u001b[0;34m(\u001b[0m\u001b[0mX\u001b[0m\u001b[0;34m)\u001b[0m\u001b[0;34m\u001b[0m\u001b[0;34m\u001b[0m\u001b[0m\n\u001b[0m\u001b[1;32m    103\u001b[0m \u001b[0;34m\u001b[0m\u001b[0m\n\u001b[1;32m    104\u001b[0m         \u001b[0mX_int\u001b[0m \u001b[0;34m=\u001b[0m \u001b[0mnp\u001b[0m\u001b[0;34m.\u001b[0m\u001b[0mzeros\u001b[0m\u001b[0;34m(\u001b[0m\u001b[0;34m(\u001b[0m\u001b[0mn_samples\u001b[0m\u001b[0;34m,\u001b[0m \u001b[0mn_features\u001b[0m\u001b[0;34m)\u001b[0m\u001b[0;34m,\u001b[0m \u001b[0mdtype\u001b[0m\u001b[0;34m=\u001b[0m\u001b[0mnp\u001b[0m\u001b[0;34m.\u001b[0m\u001b[0mint\u001b[0m\u001b[0;34m)\u001b[0m\u001b[0;34m\u001b[0m\u001b[0;34m\u001b[0m\u001b[0m\n",
      "\u001b[0;32m/data0/matthew/Software/NCSA/C3/c3-packages/dtiTraining/mnistExample/c3/py-tensorflow_2_1_0_venv/lib/python3.6/site-packages/sklearn/preprocessing/_encoders.py\u001b[0m in \u001b[0;36m_check_X\u001b[0;34m(self, X)\u001b[0m\n\u001b[1;32m     41\u001b[0m         \u001b[0;32mif\u001b[0m \u001b[0;32mnot\u001b[0m \u001b[0;34m(\u001b[0m\u001b[0mhasattr\u001b[0m\u001b[0;34m(\u001b[0m\u001b[0mX\u001b[0m\u001b[0;34m,\u001b[0m \u001b[0;34m'iloc'\u001b[0m\u001b[0;34m)\u001b[0m \u001b[0;32mand\u001b[0m \u001b[0mgetattr\u001b[0m\u001b[0;34m(\u001b[0m\u001b[0mX\u001b[0m\u001b[0;34m,\u001b[0m \u001b[0;34m'ndim'\u001b[0m\u001b[0;34m,\u001b[0m \u001b[0;36m0\u001b[0m\u001b[0;34m)\u001b[0m \u001b[0;34m==\u001b[0m \u001b[0;36m2\u001b[0m\u001b[0;34m)\u001b[0m\u001b[0;34m:\u001b[0m\u001b[0;34m\u001b[0m\u001b[0;34m\u001b[0m\u001b[0m\n\u001b[1;32m     42\u001b[0m             \u001b[0;31m# if not a dataframe, do normal check_array validation\u001b[0m\u001b[0;34m\u001b[0m\u001b[0;34m\u001b[0m\u001b[0;34m\u001b[0m\u001b[0m\n\u001b[0;32m---> 43\u001b[0;31m             \u001b[0mX_temp\u001b[0m \u001b[0;34m=\u001b[0m \u001b[0mcheck_array\u001b[0m\u001b[0;34m(\u001b[0m\u001b[0mX\u001b[0m\u001b[0;34m,\u001b[0m \u001b[0mdtype\u001b[0m\u001b[0;34m=\u001b[0m\u001b[0;32mNone\u001b[0m\u001b[0;34m)\u001b[0m\u001b[0;34m\u001b[0m\u001b[0;34m\u001b[0m\u001b[0m\n\u001b[0m\u001b[1;32m     44\u001b[0m             if (not hasattr(X, 'dtype')\n\u001b[1;32m     45\u001b[0m                     and np.issubdtype(X_temp.dtype, np.str_)):\n",
      "\u001b[0;32m/data0/matthew/Software/NCSA/C3/c3-packages/dtiTraining/mnistExample/c3/py-tensorflow_2_1_0_venv/lib/python3.6/site-packages/sklearn/utils/validation.py\u001b[0m in \u001b[0;36minner_f\u001b[0;34m(*args, **kwargs)\u001b[0m\n\u001b[1;32m     71\u001b[0m                           FutureWarning)\n\u001b[1;32m     72\u001b[0m         \u001b[0mkwargs\u001b[0m\u001b[0;34m.\u001b[0m\u001b[0mupdate\u001b[0m\u001b[0;34m(\u001b[0m\u001b[0;34m{\u001b[0m\u001b[0mk\u001b[0m\u001b[0;34m:\u001b[0m \u001b[0marg\u001b[0m \u001b[0;32mfor\u001b[0m \u001b[0mk\u001b[0m\u001b[0;34m,\u001b[0m \u001b[0marg\u001b[0m \u001b[0;32min\u001b[0m \u001b[0mzip\u001b[0m\u001b[0;34m(\u001b[0m\u001b[0msig\u001b[0m\u001b[0;34m.\u001b[0m\u001b[0mparameters\u001b[0m\u001b[0;34m,\u001b[0m \u001b[0margs\u001b[0m\u001b[0;34m)\u001b[0m\u001b[0;34m}\u001b[0m\u001b[0;34m)\u001b[0m\u001b[0;34m\u001b[0m\u001b[0;34m\u001b[0m\u001b[0m\n\u001b[0;32m---> 73\u001b[0;31m         \u001b[0;32mreturn\u001b[0m \u001b[0mf\u001b[0m\u001b[0;34m(\u001b[0m\u001b[0;34m**\u001b[0m\u001b[0mkwargs\u001b[0m\u001b[0;34m)\u001b[0m\u001b[0;34m\u001b[0m\u001b[0;34m\u001b[0m\u001b[0m\n\u001b[0m\u001b[1;32m     74\u001b[0m     \u001b[0;32mreturn\u001b[0m \u001b[0minner_f\u001b[0m\u001b[0;34m\u001b[0m\u001b[0;34m\u001b[0m\u001b[0m\n\u001b[1;32m     75\u001b[0m \u001b[0;34m\u001b[0m\u001b[0m\n",
      "\u001b[0;32m/data0/matthew/Software/NCSA/C3/c3-packages/dtiTraining/mnistExample/c3/py-tensorflow_2_1_0_venv/lib/python3.6/site-packages/sklearn/utils/validation.py\u001b[0m in \u001b[0;36mcheck_array\u001b[0;34m(array, accept_sparse, accept_large_sparse, dtype, order, copy, force_all_finite, ensure_2d, allow_nd, ensure_min_samples, ensure_min_features, estimator)\u001b[0m\n\u001b[1;32m    622\u001b[0m                     \u001b[0;34m\"Reshape your data either using array.reshape(-1, 1) if \"\u001b[0m\u001b[0;34m\u001b[0m\u001b[0;34m\u001b[0m\u001b[0m\n\u001b[1;32m    623\u001b[0m                     \u001b[0;34m\"your data has a single feature or array.reshape(1, -1) \"\u001b[0m\u001b[0;34m\u001b[0m\u001b[0;34m\u001b[0m\u001b[0m\n\u001b[0;32m--> 624\u001b[0;31m                     \"if it contains a single sample.\".format(array))\n\u001b[0m\u001b[1;32m    625\u001b[0m \u001b[0;34m\u001b[0m\u001b[0m\n\u001b[1;32m    626\u001b[0m         \u001b[0;31m# in the future np.flexible dtypes will be handled like object dtypes\u001b[0m\u001b[0;34m\u001b[0m\u001b[0;34m\u001b[0m\u001b[0;34m\u001b[0m\u001b[0m\n",
      "\u001b[0;31mValueError\u001b[0m: Expected 2D array, got 1D array instead:\narray=[3 4 7 2 7 1 2 1 1 7 4 2 3 5 1 2 4 4 6 3 5 5 6 0 4 1 9 5 7 8 9 3].\nReshape your data either using array.reshape(-1, 1) if your data has a single feature or array.reshape(1, -1) if it contains a single sample."
     ]
    }
   ],
   "source": [
    "encoder.transform(labels)"
   ]
  },
  {
   "cell_type": "code",
   "execution_count": 20,
   "metadata": {
    "ExecuteTime": {
     "end_time": "2020-07-22T18:51:30.732577Z",
     "start_time": "2020-07-22T18:51:30.729315Z"
    }
   },
   "outputs": [],
   "source": [
    "batch_stream.close()"
   ]
  },
  {
   "cell_type": "code",
   "execution_count": 14,
   "metadata": {
    "ExecuteTime": {
     "end_time": "2020-07-22T18:36:32.593548Z",
     "start_time": "2020-07-22T18:36:32.586687Z"
    }
   },
   "outputs": [
    {
     "data": {
      "text/plain": [
       "c3.Dataset(\n",
       " sourceSpec=c3.FileNdArraySourceSpec(\n",
       "              locationPrefix='http___yann.lecun.com_exdb_mnist_t10k-images-idx3-ubyte.gz',\n",
       "              storageFormat='NPY',\n",
       "              optimalFileSize=64000000,\n",
       "              enableLocalClientStorage=True,\n",
       "              id='f2b147b8-3585-4d73-ba93-366d16a466ec',\n",
       "              meta=c3.Meta(\n",
       "                     tenantTagId=3,\n",
       "                     tenant='mnistExercise',\n",
       "                     tag='dev',\n",
       "                     created=datetime.datetime(2020, 7, 22, 17, 59, 19, tzinfo=datetime.timezone.utc),\n",
       "                     createdBy='BA',\n",
       "                     updated=datetime.datetime(2020, 7, 22, 17, 59, 19, tzinfo=datetime.timezone.utc),\n",
       "                     updatedBy='BA',\n",
       "                     timestamp=datetime.datetime(2020, 7, 22, 17, 59, 19, tzinfo=datetime.timezone.utc),\n",
       "                     fetchInclude='[]',\n",
       "                     fetchType='FileSourceSpec'),\n",
       "              version=2,\n",
       "              typeIdent='FISS:FNDASS',\n",
       "              location='http___yann.lecun.com_exdb_mnist_t10k-images-idx3-ubyte.gz/FileSourceSpec/f2b147b8-3585-4d73-ba93-366d16a466ec'))"
      ]
     },
     "execution_count": 14,
     "metadata": {},
     "output_type": "execute_result"
    }
   ],
   "source": [
    "mnist_test_images"
   ]
  },
  {
   "cell_type": "code",
   "execution_count": 11,
   "metadata": {
    "ExecuteTime": {
     "end_time": "2020-07-22T18:22:48.924410Z",
     "start_time": "2020-07-22T18:22:48.495376Z"
    }
   },
   "outputs": [
    {
     "name": "stderr",
     "output_type": "stream",
     "text": [
      "500 - NotClassified - c3.stats.machineLearning.AbstractTensorCommon_checkAbstractTensor [1721.343]\n",
      "message: \"Illegal Tensor: 'shape' field must be non-empty.\"\n",
      "JSON: {\"keepOriginalColumn\": false, \"column\": \"0\", \"this\": {\"type\": \"Dataset\", \"sourceSpec\": {\"type\": \"FileNdArraySourceSpec\", \"locationPrefix\": \"http___yann.lecun.com_exdb_mnist_t10k-labels-idx1-ubyte.gz\", \"storageFormat\": \"NPY\", \"optimalFileSize\": 64000000, \"enableLocalClientStorage\": true, \"id\": \"a110e642-47a8-42e3-8d5f-92114b902845\", \"meta\": {\"type\": \"Meta\", \"tenantTagId\": 3, \"tenant\": \"mnistExercise\", \"tag\": \"dev\", \"created\": \"2020-07-22T18:02:39+00:00\", \"createdBy\": \"BA\", \"updated\": \"2020-07-22T18:02:39+00:00\", \"updatedBy\": \"BA\", \"timestamp\": \"2020-07-22T18:02:39+00:00\", \"fetchInclude\": \"[]\", \"fetchType\": \"FileNdArraySourceSpec\"}, \"version\": 2, \"typeIdent\": \"FISS:FNDASS\", \"location\": \"http___yann.lecun.com_exdb_mnist_t10k-labels-idx1-ubyte.gz/FileSourceSpec/a110e642-47a8-42e3-8d5f-92114b902845\"}}}\n"
     ]
    },
    {
     "ename": "C3RuntimeException",
     "evalue": "500 - NotClassified - c3.stats.machineLearning.AbstractTensorCommon_checkAbstractTensor [1721.343]\nmessage: \"Illegal Tensor: 'shape' field must be non-empty.\"\nJSON: {\"keepOriginalColumn\": false, \"column\": \"0\", \"this\": {\"type\": \"Dataset\", \"sourceSpec\": {\"type\": \"FileNdArraySourceSpec\", \"locationPrefix\": \"http___yann.lecun.com_exdb_mnist_t10k-labels-idx1-ubyte.gz\", \"storageFormat\": \"NPY\", \"optimalFileSize\": 64000000, \"enableLocalClientStorage\": true, \"id\": \"a110e642-47a8-42e3-8d5f-92114b902845\", \"meta\": {\"type\": \"Meta\", \"tenantTagId\": 3, \"tenant\": \"mnistExercise\", \"tag\": \"dev\", \"created\": \"2020-07-22T18:02:39+00:00\", \"createdBy\": \"BA\", \"updated\": \"2020-07-22T18:02:39+00:00\", \"updatedBy\": \"BA\", \"timestamp\": \"2020-07-22T18:02:39+00:00\", \"fetchInclude\": \"[]\", \"fetchType\": \"FileNdArraySourceSpec\"}, \"version\": 2, \"typeIdent\": \"FISS:FNDASS\", \"location\": \"http___yann.lecun.com_exdb_mnist_t10k-labels-idx1-ubyte.gz/FileSourceSpec/a110e642-47a8-42e3-8d5f-92114b902845\"}}}",
     "output_type": "error",
     "traceback": [
      "\u001b[0;31m---------------------------------------------------------------------------\u001b[0m",
      "\u001b[0;31mC3RuntimeException\u001b[0m                        Traceback (most recent call last)",
      "\u001b[0;32m<ipython-input-11-7360cb39b5a3>\u001b[0m in \u001b[0;36m<module>\u001b[0;34m\u001b[0m\n\u001b[0;32m----> 1\u001b[0;31m \u001b[0mmnist_test_labels_onehot\u001b[0m \u001b[0;34m=\u001b[0m \u001b[0mmnist_test_labels\u001b[0m\u001b[0;34m.\u001b[0m\u001b[0mgenerateDummyVariables\u001b[0m\u001b[0;34m(\u001b[0m\u001b[0mcolumn\u001b[0m\u001b[0;34m=\u001b[0m\u001b[0;34m'0'\u001b[0m\u001b[0;34m,\u001b[0m \u001b[0mkeepOriginalColumn\u001b[0m\u001b[0;34m=\u001b[0m\u001b[0;32mFalse\u001b[0m\u001b[0;34m)\u001b[0m\u001b[0;34m\u001b[0m\u001b[0;34m\u001b[0m\u001b[0m\n\u001b[0m\u001b[1;32m      2\u001b[0m \u001b[0mmnist_train_labels_onehot\u001b[0m \u001b[0;34m=\u001b[0m \u001b[0mmnist_train_labels\u001b[0m\u001b[0;34m.\u001b[0m\u001b[0mgenerateDummyVariables\u001b[0m\u001b[0;34m(\u001b[0m\u001b[0mcolumn\u001b[0m\u001b[0;34m=\u001b[0m\u001b[0;34m'0'\u001b[0m\u001b[0;34m,\u001b[0m \u001b[0mkeepOriginalColumn\u001b[0m\u001b[0;34m=\u001b[0m\u001b[0;32mFalse\u001b[0m\u001b[0;34m)\u001b[0m\u001b[0;34m\u001b[0m\u001b[0;34m\u001b[0m\u001b[0m\n",
      "\u001b[0;32mZ269b4a18afdaff6a2b466ebf44ac4db5M_.TypeSystemBase\u001b[0m in \u001b[0;36mgenerateDummyVariables\u001b[0;34m(this, column, keepOriginalColumn)\u001b[0m\n",
      "\u001b[0;32mZ269b4a18afdaff6a2b466ebf44ac4db5M_/TypeSystemBase.py\u001b[0m in \u001b[0;36m_c3_member_impl\u001b[0;34m(_typesys, ___args, this_name, method_name, defined_class_name, _invoking_class, _overload_idx)\u001b[0m\n",
      "\u001b[0;32mZ269b4a18afdaff6a2b466ebf44ac4db5M_/TypeSystemBase.py\u001b[0m in \u001b[0;36m_box_and_request_json\u001b[0;34m(self, type_name, method_name, payload, validate_args, declared_type_name, current_class)\u001b[0m\n",
      "\u001b[0;32mZ269b4a18afdaff6a2b466ebf44ac4db5M_/TypeSystemBase.py\u001b[0m in \u001b[0;36m_request_json\u001b[0;34m(self, type_name, method_name, payload)\u001b[0m\n",
      "\u001b[0;32mZ269b4a18afdaff6a2b466ebf44ac4db5M_/ServerConnection.py\u001b[0m in \u001b[0;36m_request_json\u001b[0;34m(self, type_name, action_name, payload, extra_headers, encoder, client_side_type_inference)\u001b[0m\n",
      "\u001b[0;31mC3RuntimeException\u001b[0m: 500 - NotClassified - c3.stats.machineLearning.AbstractTensorCommon_checkAbstractTensor [1721.343]\nmessage: \"Illegal Tensor: 'shape' field must be non-empty.\"\nJSON: {\"keepOriginalColumn\": false, \"column\": \"0\", \"this\": {\"type\": \"Dataset\", \"sourceSpec\": {\"type\": \"FileNdArraySourceSpec\", \"locationPrefix\": \"http___yann.lecun.com_exdb_mnist_t10k-labels-idx1-ubyte.gz\", \"storageFormat\": \"NPY\", \"optimalFileSize\": 64000000, \"enableLocalClientStorage\": true, \"id\": \"a110e642-47a8-42e3-8d5f-92114b902845\", \"meta\": {\"type\": \"Meta\", \"tenantTagId\": 3, \"tenant\": \"mnistExercise\", \"tag\": \"dev\", \"created\": \"2020-07-22T18:02:39+00:00\", \"createdBy\": \"BA\", \"updated\": \"2020-07-22T18:02:39+00:00\", \"updatedBy\": \"BA\", \"timestamp\": \"2020-07-22T18:02:39+00:00\", \"fetchInclude\": \"[]\", \"fetchType\": \"FileNdArraySourceSpec\"}, \"version\": 2, \"typeIdent\": \"FISS:FNDASS\", \"location\": \"http___yann.lecun.com_exdb_mnist_t10k-labels-idx1-ubyte.gz/FileSourceSpec/a110e642-47a8-42e3-8d5f-92114b902845\"}}}"
     ]
    }
   ],
   "source": [
    "mnist_test_labels_onehot = mnist_test_labels.generateDummyVariables(column='0', keepOriginalColumn=False)\n",
    "mnist_train_labels_onehot = mnist_train_labels.generateDummyVariables(column='0', keepOriginalColumn=False)"
   ]
  },
  {
   "cell_type": "code",
   "execution_count": 8,
   "metadata": {
    "ExecuteTime": {
     "end_time": "2020-06-19T18:40:45.509440Z",
     "start_time": "2020-06-19T18:40:45.499795Z"
    }
   },
   "outputs": [],
   "source": [
    "def train_and_test_model(name, model, train_X, train_Y, test_X, test_Y, epochs=10, callbacks=[]):\n",
    "    pipe = c3.KerasPipe().upsertNativeModel(model=model)\n",
    "    pipe.technique.numEpochs = epochs\n",
    "    trained_pipe = pipe.train(input=train_X, targetOutput=train_Y)\n",
    "    result = trained_pipe.process(input=test_X)\n",
    "\n",
    "    result_np = result.toNumpyArray()\n",
    "    test_Y_np = test_Y.toNumpyArray()\n",
    "\n",
    "    tot = test_Y_np.shape[0]\n",
    "    error_rate = sum(result_np.argmax(axis=1)!=test_Y_np.argmax(axis=1))/(float(tot))\n",
    "\n",
    "    print(\"{} Error Rate: {:.2f}%\".format(name, error_rate*100))\n",
    "    return trained_pipe"
   ]
  },
  {
   "cell_type": "code",
   "execution_count": 9,
   "metadata": {
    "ExecuteTime": {
     "end_time": "2020-06-19T18:40:46.649182Z",
     "start_time": "2020-06-19T18:40:46.600373Z"
    },
    "scrolled": true
   },
   "outputs": [
    {
     "name": "stdout",
     "output_type": "stream",
     "text": [
      "Model: \"sequential_1\"\n",
      "_________________________________________________________________\n",
      "Layer (type)                 Output Shape              Param #   \n",
      "=================================================================\n",
      "reshape_1 (Reshape)          (None, 784)               0         \n",
      "_________________________________________________________________\n",
      "dense_2 (Dense)              (None, 1000)              785000    \n",
      "_________________________________________________________________\n",
      "dense_3 (Dense)              (None, 10)                10010     \n",
      "=================================================================\n",
      "Total params: 795,010\n",
      "Trainable params: 795,010\n",
      "Non-trainable params: 0\n",
      "_________________________________________________________________\n"
     ]
    }
   ],
   "source": [
    "# Build tensorflow model.\n",
    "one_layer_simple_model = tf.keras.Sequential([\n",
    "    tf.keras.layers.Reshape((28*28,), input_shape=(28,28)),\n",
    "    tf.keras.layers.Dense(1000, activation='relu'),\n",
    "    tf.keras.layers.Dense(10, activation='softmax')\n",
    "])\n",
    "\n",
    "one_layer_simple_model.summary()\n",
    "one_layer_simple_model.compile(optimizer='Adam', loss='categorical_crossentropy')"
   ]
  },
  {
   "cell_type": "code",
   "execution_count": 10,
   "metadata": {
    "ExecuteTime": {
     "end_time": "2020-06-19T18:46:14.486981Z",
     "start_time": "2020-06-19T18:40:50.352331Z"
    }
   },
   "outputs": [
    {
     "name": "stdout",
     "output_type": "stream",
     "text": [
      "one_layer_simple_model Error Rate: 7.60%\n"
     ]
    },
    {
     "data": {
      "text/plain": [
       "c3.KerasPipe(\n",
       " id='48b0e5fa-dd8e-46fa-ada3-5e1999d78255',\n",
       " meta=c3.Meta(\n",
       "        tenantTagId=3,\n",
       "        tenant='mnistExercise',\n",
       "        tag='dev',\n",
       "        created=datetime.datetime(2020, 6, 19, 18, 43, 19, tzinfo=datetime.timezone.utc),\n",
       "        createdBy='BA',\n",
       "        updated=datetime.datetime(2020, 6, 19, 18, 45, 19, tzinfo=datetime.timezone.utc),\n",
       "        updatedBy='BA',\n",
       "        timestamp=datetime.datetime(2020, 6, 19, 18, 45, 19, tzinfo=datetime.timezone.utc),\n",
       "        fetchInclude='[]',\n",
       "        fetchType='KerasPipe'),\n",
       " version=2,\n",
       " typeIdent='PIPE:LF:KRS',\n",
       " implType='KerasPipeV7d12',\n",
       " noTrainScore=False,\n",
       " persistedModelCategory='unidentified',\n",
       " typeVersion='7.12.4',\n",
       " untrainableOverride=False,\n",
       " technique=c3.KerasTechnique(\n",
       "             modelDef='{\"class_name\": \"Sequential\", \"config\": {\"name\": '\n",
       "                       '\"sequential_1\", \"layers\": [{\"class_name\": \"Reshape\", '\n",
       "                       '\"config\": {\"name\": \"reshape_1\", \"trainable\": true, '\n",
       "                       '\"batch_input_shape\": [null, 28, 28], \"dtype\": '\n",
       "                       '\"float32\", \"target_shape\": [784]}}, {\"class_name\": '\n",
       "                       '\"Dense\", \"config\": {\"name\": \"dense_2\", \"trainable\": '\n",
       "                       'true, \"dtype\": \"float32\", \"units\": 1000, \"activation\": '\n",
       "                       '\"relu\", \"use_bias\": true, \"kernel_initializer\": '\n",
       "                       '{\"class_name\": \"GlorotUniform\", \"config\": {\"seed\": '\n",
       "                       'null}}, \"bias_initializer\": {\"class_name\": \"Zeros\", '\n",
       "                       '\"config\": {}}, \"kernel_regularizer\": null, '\n",
       "                       '\"bias_regularizer\": null, \"activity_regularizer\": '\n",
       "                       'null, \"kernel_constraint\": null, \"bias_constraint\": '\n",
       "                       'null}}, {\"class_name\": \"Dense\", \"config\": {\"name\": '\n",
       "                       '\"dense_3\", \"trainable\": true, \"dtype\": \"float32\", '\n",
       "                       '\"units\": 10, \"activation\": \"softmax\", \"use_bias\": '\n",
       "                       'true, \"kernel_initializer\": {\"class_name\": '\n",
       "                       '\"GlorotUniform\", \"config\": {\"seed\": null}}, '\n",
       "                       '\"bias_initializer\": {\"class_name\": \"Zeros\", \"config\": '\n",
       "                       '{}}, \"kernel_regularizer\": null, \"bias_regularizer\": '\n",
       "                       'null, \"activity_regularizer\": null, '\n",
       "                       '\"kernel_constraint\": null, \"bias_constraint\": '\n",
       "                       'null}}]}, \"keras_version\": \"2.2.4-tf\", \"backend\": '\n",
       "                       '\"tensorflow\"}',\n",
       "             batchSize=32,\n",
       "             numEpochs=10,\n",
       "             loss=c3.KerasLoss(\n",
       "                    config={'reduction': 'sum_over_batch_size'},\n",
       "                    name='categorical_crossentropy'),\n",
       "             optimizer=c3.KerasOptimizer(\n",
       "                         className='Adam',\n",
       "                         config={'amsgrad': False,\n",
       "                                  'beta_1': 0.8999999761581421,\n",
       "                                  'beta_2': 0.9990000128746033,\n",
       "                                  'decay': 0,\n",
       "                                  'epsilon': 1e-07,\n",
       "                                  'learning_rate': 0.0010000000474974513},\n",
       "                         name='Adam'),\n",
       "             warmStart=False,\n",
       "             shuffle=False,\n",
       "             stepsPerEpoch=100,\n",
       "             cacheOnLocalClientStorage=True,\n",
       "             lossChanged=False,\n",
       "             optimizerChanged=False,\n",
       "             metricsChanged=False),\n",
       " trainedModel=c3.MLTrainedModelArtifact(\n",
       "                modelFile=c3.File(\n",
       "                            url='c3fs:///ml/models/KerasPipe/48b0e5fa-dd8e-46fa-ada3-5e1999d78255/kerasModelDef.h5'),\n",
       "                description='Keras model created on '\n",
       "                             '2020-06-19T18:45:19.266517'),\n",
       " progress=c3.DeepLearningTrainingProgress(\n",
       "            id='f587b9a8-e7f6-4068-bf55-acef0a3b8ecc'))"
      ]
     },
     "execution_count": 10,
     "metadata": {},
     "output_type": "execute_result"
    }
   ],
   "source": [
    "train_and_test_model('one_layer_simple_model', one_layer_simple_model,\n",
    "                     mnist_train_images, mnist_train_labels_onehot,\n",
    "                     mnist_test_images, mnist_test_labels_onehot)"
   ]
  },
  {
   "cell_type": "code",
   "execution_count": 11,
   "metadata": {
    "ExecuteTime": {
     "end_time": "2020-06-19T18:46:14.535924Z",
     "start_time": "2020-06-19T18:46:14.488455Z"
    }
   },
   "outputs": [
    {
     "name": "stdout",
     "output_type": "stream",
     "text": [
      "Model: \"sequential_2\"\n",
      "_________________________________________________________________\n",
      "Layer (type)                 Output Shape              Param #   \n",
      "=================================================================\n",
      "reshape_2 (Reshape)          (None, 784)               0         \n",
      "_________________________________________________________________\n",
      "dense_4 (Dense)              (None, 1000)              785000    \n",
      "_________________________________________________________________\n",
      "dense_5 (Dense)              (None, 1000)              1001000   \n",
      "_________________________________________________________________\n",
      "dense_6 (Dense)              (None, 10)                10010     \n",
      "=================================================================\n",
      "Total params: 1,796,010\n",
      "Trainable params: 1,796,010\n",
      "Non-trainable params: 0\n",
      "_________________________________________________________________\n"
     ]
    }
   ],
   "source": [
    "# Build tensorflow model.\n",
    "two_layer_simple_model = tf.keras.Sequential([\n",
    "    tf.keras.layers.Reshape((28*28,), input_shape=(28,28)),\n",
    "    tf.keras.layers.Dense(1000, activation='relu'),\n",
    "    tf.keras.layers.Dense(1000, activation='relu'),\n",
    "    tf.keras.layers.Dense(10, activation='softmax')\n",
    "])\n",
    "\n",
    "two_layer_simple_model.summary()\n",
    "two_layer_simple_model.compile(optimizer='Adam', loss='categorical_crossentropy')"
   ]
  },
  {
   "cell_type": "code",
   "execution_count": 12,
   "metadata": {
    "ExecuteTime": {
     "end_time": "2020-06-19T18:51:40.957626Z",
     "start_time": "2020-06-19T18:46:14.537421Z"
    }
   },
   "outputs": [
    {
     "name": "stdout",
     "output_type": "stream",
     "text": [
      "two_layer_simple_model Error Rate: 6.50%\n"
     ]
    },
    {
     "data": {
      "text/plain": [
       "c3.KerasPipe(\n",
       " id='4e241871-0d82-4a37-82f3-ec898ddb253d',\n",
       " meta=c3.Meta(\n",
       "        tenantTagId=3,\n",
       "        tenant='mnistExercise',\n",
       "        tag='dev',\n",
       "        created=datetime.datetime(2020, 6, 19, 18, 48, 44, tzinfo=datetime.timezone.utc),\n",
       "        createdBy='BA',\n",
       "        updated=datetime.datetime(2020, 6, 19, 18, 50, 44, tzinfo=datetime.timezone.utc),\n",
       "        updatedBy='BA',\n",
       "        timestamp=datetime.datetime(2020, 6, 19, 18, 50, 44, tzinfo=datetime.timezone.utc),\n",
       "        fetchInclude='[]',\n",
       "        fetchType='KerasPipe'),\n",
       " version=2,\n",
       " typeIdent='PIPE:LF:KRS',\n",
       " implType='KerasPipeV7d12',\n",
       " noTrainScore=False,\n",
       " persistedModelCategory='unidentified',\n",
       " typeVersion='7.12.4',\n",
       " untrainableOverride=False,\n",
       " technique=c3.KerasTechnique(\n",
       "             modelDef='{\"class_name\": \"Sequential\", \"config\": {\"name\": '\n",
       "                       '\"sequential_2\", \"layers\": [{\"class_name\": \"Reshape\", '\n",
       "                       '\"config\": {\"name\": \"reshape_2\", \"trainable\": true, '\n",
       "                       '\"batch_input_shape\": [null, 28, 28], \"dtype\": '\n",
       "                       '\"float32\", \"target_shape\": [784]}}, {\"class_name\": '\n",
       "                       '\"Dense\", \"config\": {\"name\": \"dense_4\", \"trainable\": '\n",
       "                       'true, \"dtype\": \"float32\", \"units\": 1000, \"activation\": '\n",
       "                       '\"relu\", \"use_bias\": true, \"kernel_initializer\": '\n",
       "                       '{\"class_name\": \"GlorotUniform\", \"config\": {\"seed\": '\n",
       "                       'null}}, \"bias_initializer\": {\"class_name\": \"Zeros\", '\n",
       "                       '\"config\": {}}, \"kernel_regularizer\": null, '\n",
       "                       '\"bias_regularizer\": null, \"activity_regularizer\": '\n",
       "                       'null, \"kernel_constraint\": null, \"bias_constraint\": '\n",
       "                       'null}}, {\"class_name\": \"Dense\", \"config\": {\"name\": '\n",
       "                       '\"dense_5\", \"trainable\": true, \"dtype\": \"float32\", '\n",
       "                       '\"units\": 1000, \"activation\": \"relu\", \"use_bias\": true, '\n",
       "                       '\"kernel_initializer\": {\"class_name\": \"GlorotUniform\", '\n",
       "                       '\"config\": {\"seed\": null}}, \"bias_initializer\": '\n",
       "                       '{\"class_name\": \"Zeros\", \"config\": {}}, '\n",
       "                       '\"kernel_regularizer\": null, \"bias_regularizer\": null, '\n",
       "                       '\"activity_regularizer\": null, \"kernel_constraint\": '\n",
       "                       'null, \"bias_constraint\": null}}, {\"class_name\": '\n",
       "                       '\"Dense\", \"config\": {\"name\": \"dense_6\", \"trainable\": '\n",
       "                       'true, \"dtype\": \"float32\", \"units\": 10, \"activation\": '\n",
       "                       '\"softmax\", \"use_bias\": true, \"kernel_initializer\": '\n",
       "                       '{\"class_name\": \"GlorotUniform\", \"config\": {\"seed\": '\n",
       "                       'null}}, \"bias_initializer\": {\"class_name\": \"Zeros\", '\n",
       "                       '\"config\": {}}, \"kernel_regularizer\": null, '\n",
       "                       '\"bias_regularizer\": null, \"activity_regularizer\": '\n",
       "                       'null, \"kernel_constraint\": null, \"bias_constraint\": '\n",
       "                       'null}}]}, \"keras_version\": \"2.2.4-tf\", \"backend\": '\n",
       "                       '\"tensorflow\"}',\n",
       "             batchSize=32,\n",
       "             numEpochs=10,\n",
       "             loss=c3.KerasLoss(\n",
       "                    config={'reduction': 'sum_over_batch_size'},\n",
       "                    name='categorical_crossentropy'),\n",
       "             optimizer=c3.KerasOptimizer(\n",
       "                         className='Adam',\n",
       "                         config={'amsgrad': False,\n",
       "                                  'beta_1': 0.8999999761581421,\n",
       "                                  'beta_2': 0.9990000128746033,\n",
       "                                  'decay': 0,\n",
       "                                  'epsilon': 1e-07,\n",
       "                                  'learning_rate': 0.0010000000474974513},\n",
       "                         name='Adam'),\n",
       "             warmStart=False,\n",
       "             shuffle=False,\n",
       "             stepsPerEpoch=100,\n",
       "             cacheOnLocalClientStorage=True,\n",
       "             lossChanged=False,\n",
       "             optimizerChanged=False,\n",
       "             metricsChanged=False),\n",
       " trainedModel=c3.MLTrainedModelArtifact(\n",
       "                modelFile=c3.File(\n",
       "                            url='c3fs:///ml/models/KerasPipe/4e241871-0d82-4a37-82f3-ec898ddb253d/kerasModelDef.h5'),\n",
       "                description='Keras model created on '\n",
       "                             '2020-06-19T18:50:44.199752'),\n",
       " progress=c3.DeepLearningTrainingProgress(\n",
       "            id='2f1c37a5-98a3-4e28-a9be-728df3fb8949'))"
      ]
     },
     "execution_count": 12,
     "metadata": {},
     "output_type": "execute_result"
    }
   ],
   "source": [
    "train_and_test_model('two_layer_simple_model', two_layer_simple_model,\n",
    "                     mnist_train_images, mnist_train_labels_onehot,\n",
    "                     mnist_test_images, mnist_test_labels_onehot)"
   ]
  },
  {
   "cell_type": "code",
   "execution_count": 13,
   "metadata": {
    "ExecuteTime": {
     "end_time": "2020-06-19T18:51:41.014363Z",
     "start_time": "2020-06-19T18:51:40.958979Z"
    }
   },
   "outputs": [
    {
     "name": "stdout",
     "output_type": "stream",
     "text": [
      "Model: \"sequential_3\"\n",
      "_________________________________________________________________\n",
      "Layer (type)                 Output Shape              Param #   \n",
      "=================================================================\n",
      "reshape_3 (Reshape)          (None, 28, 28, 1)         0         \n",
      "_________________________________________________________________\n",
      "conv2d (Conv2D)              (None, 26, 26, 32)        320       \n",
      "_________________________________________________________________\n",
      "flatten (Flatten)            (None, 21632)             0         \n",
      "_________________________________________________________________\n",
      "dense_7 (Dense)              (None, 10)                216330    \n",
      "=================================================================\n",
      "Total params: 216,650\n",
      "Trainable params: 216,650\n",
      "Non-trainable params: 0\n",
      "_________________________________________________________________\n"
     ]
    }
   ],
   "source": [
    "one_layer_cnn_model = tf.keras.Sequential([\n",
    "    tf.keras.layers.Reshape((28,28,1), input_shape=(28,28)),\n",
    "    tf.keras.layers.Conv2D(32, kernel_size=(3,3),\n",
    "                           activation='relu'),\n",
    "    tf.keras.layers.Flatten(),\n",
    "    tf.keras.layers.Dense(10, activation='softmax')\n",
    "])\n",
    "\n",
    "one_layer_cnn_model.summary()\n",
    "one_layer_cnn_model.compile(optimizer='Adam', loss='categorical_crossentropy')"
   ]
  },
  {
   "cell_type": "code",
   "execution_count": 14,
   "metadata": {
    "ExecuteTime": {
     "end_time": "2020-06-19T18:57:02.842811Z",
     "start_time": "2020-06-19T18:51:41.015746Z"
    }
   },
   "outputs": [
    {
     "name": "stdout",
     "output_type": "stream",
     "text": [
      "one_layer_cnn_model Error Rate: 5.00%\n"
     ]
    },
    {
     "data": {
      "text/plain": [
       "c3.KerasPipe(\n",
       " id='6a4f4628-93eb-402b-a42e-38c7a3db837b',\n",
       " meta=c3.Meta(\n",
       "        tenantTagId=3,\n",
       "        tenant='mnistExercise',\n",
       "        tag='dev',\n",
       "        created=datetime.datetime(2020, 6, 19, 18, 54, 11, tzinfo=datetime.timezone.utc),\n",
       "        createdBy='BA',\n",
       "        updated=datetime.datetime(2020, 6, 19, 18, 56, 8, tzinfo=datetime.timezone.utc),\n",
       "        updatedBy='BA',\n",
       "        timestamp=datetime.datetime(2020, 6, 19, 18, 56, 8, tzinfo=datetime.timezone.utc),\n",
       "        fetchInclude='[]',\n",
       "        fetchType='KerasPipe'),\n",
       " version=2,\n",
       " typeIdent='PIPE:LF:KRS',\n",
       " implType='KerasPipeV7d12',\n",
       " noTrainScore=False,\n",
       " persistedModelCategory='unidentified',\n",
       " typeVersion='7.12.4',\n",
       " untrainableOverride=False,\n",
       " technique=c3.KerasTechnique(\n",
       "             modelDef='{\"class_name\": \"Sequential\", \"config\": {\"name\": '\n",
       "                       '\"sequential_3\", \"layers\": [{\"class_name\": \"Reshape\", '\n",
       "                       '\"config\": {\"name\": \"reshape_3\", \"trainable\": true, '\n",
       "                       '\"batch_input_shape\": [null, 28, 28], \"dtype\": '\n",
       "                       '\"float32\", \"target_shape\": [28, 28, 1]}}, '\n",
       "                       '{\"class_name\": \"Conv2D\", \"config\": {\"name\": \"conv2d\", '\n",
       "                       '\"trainable\": true, \"dtype\": \"float32\", \"filters\": 32, '\n",
       "                       '\"kernel_size\": [3, 3], \"strides\": [1, 1], \"padding\": '\n",
       "                       '\"valid\", \"data_format\": \"channels_last\", '\n",
       "                       '\"dilation_rate\": [1, 1], \"activation\": \"relu\", '\n",
       "                       '\"use_bias\": true, \"kernel_initializer\": {\"class_name\": '\n",
       "                       '\"GlorotUniform\", \"config\": {\"seed\": null}}, '\n",
       "                       '\"bias_initializer\": {\"class_name\": \"Zeros\", \"config\": '\n",
       "                       '{}}, \"kernel_regularizer\": null, \"bias_regularizer\": '\n",
       "                       'null, \"activity_regularizer\": null, '\n",
       "                       '\"kernel_constraint\": null, \"bias_constraint\": null}}, '\n",
       "                       '{\"class_name\": \"Flatten\", \"config\": {\"name\": '\n",
       "                       '\"flatten\", \"trainable\": true, \"dtype\": \"float32\", '\n",
       "                       '\"data_format\": \"channels_last\"}}, {\"class_name\": '\n",
       "                       '\"Dense\", \"config\": {\"name\": \"dense_7\", \"trainable\": '\n",
       "                       'true, \"dtype\": \"float32\", \"units\": 10, \"activation\": '\n",
       "                       '\"softmax\", \"use_bias\": true, \"kernel_initializer\": '\n",
       "                       '{\"class_name\": \"GlorotUniform\", \"config\": {\"seed\": '\n",
       "                       'null}}, \"bias_initializer\": {\"class_name\": \"Zeros\", '\n",
       "                       '\"config\": {}}, \"kernel_regularizer\": null, '\n",
       "                       '\"bias_regularizer\": null, \"activity_regularizer\": '\n",
       "                       'null, \"kernel_constraint\": null, \"bias_constraint\": '\n",
       "                       'null}}]}, \"keras_version\": \"2.2.4-tf\", \"backend\": '\n",
       "                       '\"tensorflow\"}',\n",
       "             batchSize=32,\n",
       "             numEpochs=10,\n",
       "             loss=c3.KerasLoss(\n",
       "                    config={'reduction': 'sum_over_batch_size'},\n",
       "                    name='categorical_crossentropy'),\n",
       "             optimizer=c3.KerasOptimizer(\n",
       "                         className='Adam',\n",
       "                         config={'amsgrad': False,\n",
       "                                  'beta_1': 0.8999999761581421,\n",
       "                                  'beta_2': 0.9990000128746033,\n",
       "                                  'decay': 0,\n",
       "                                  'epsilon': 1e-07,\n",
       "                                  'learning_rate': 0.0010000000474974513},\n",
       "                         name='Adam'),\n",
       "             warmStart=False,\n",
       "             shuffle=False,\n",
       "             stepsPerEpoch=100,\n",
       "             cacheOnLocalClientStorage=True,\n",
       "             lossChanged=False,\n",
       "             optimizerChanged=False,\n",
       "             metricsChanged=False),\n",
       " trainedModel=c3.MLTrainedModelArtifact(\n",
       "                modelFile=c3.File(\n",
       "                            url='c3fs:///ml/models/KerasPipe/6a4f4628-93eb-402b-a42e-38c7a3db837b/kerasModelDef.h5'),\n",
       "                description='Keras model created on '\n",
       "                             '2020-06-19T18:56:08.284949'),\n",
       " progress=c3.DeepLearningTrainingProgress(\n",
       "            id='ed6bd9bf-ccb9-44dc-b246-d0deb330cf1f'))"
      ]
     },
     "execution_count": 14,
     "metadata": {},
     "output_type": "execute_result"
    }
   ],
   "source": [
    "train_and_test_model('one_layer_cnn_model', one_layer_cnn_model,\n",
    "                     mnist_train_images, mnist_train_labels_onehot,\n",
    "                     mnist_test_images, mnist_test_labels_onehot)"
   ]
  },
  {
   "cell_type": "code",
   "execution_count": 15,
   "metadata": {
    "ExecuteTime": {
     "end_time": "2020-06-19T18:57:02.943301Z",
     "start_time": "2020-06-19T18:57:02.845778Z"
    }
   },
   "outputs": [
    {
     "name": "stdout",
     "output_type": "stream",
     "text": [
      "Model: \"sequential_4\"\n",
      "_________________________________________________________________\n",
      "Layer (type)                 Output Shape              Param #   \n",
      "=================================================================\n",
      "reshape_4 (Reshape)          (None, 28, 28, 1)         0         \n",
      "_________________________________________________________________\n",
      "conv2d_1 (Conv2D)            (None, 26, 26, 32)        320       \n",
      "_________________________________________________________________\n",
      "conv2d_2 (Conv2D)            (None, 24, 24, 64)        18496     \n",
      "_________________________________________________________________\n",
      "max_pooling2d (MaxPooling2D) (None, 12, 12, 64)        0         \n",
      "_________________________________________________________________\n",
      "dropout (Dropout)            (None, 12, 12, 64)        0         \n",
      "_________________________________________________________________\n",
      "flatten_1 (Flatten)          (None, 9216)              0         \n",
      "_________________________________________________________________\n",
      "dense_8 (Dense)              (None, 125)               1152125   \n",
      "_________________________________________________________________\n",
      "dropout_1 (Dropout)          (None, 125)               0         \n",
      "_________________________________________________________________\n",
      "dense_9 (Dense)              (None, 10)                1260      \n",
      "=================================================================\n",
      "Total params: 1,172,201\n",
      "Trainable params: 1,172,201\n",
      "Non-trainable params: 0\n",
      "_________________________________________________________________\n"
     ]
    }
   ],
   "source": [
    "three_layer_cnn_model = tf.keras.Sequential([\n",
    "    tf.keras.layers.Reshape((28,28,1), input_shape=(28,28)),\n",
    "    tf.keras.layers.Conv2D(32, kernel_size=(3,3),\n",
    "                           activation='relu'),\n",
    "    tf.keras.layers.Conv2D(64, kernel_size=(3,3),\n",
    "                           activation='relu'),\n",
    "    tf.keras.layers.MaxPooling2D(pool_size=(2,2)),\n",
    "    tf.keras.layers.Dropout(0.25),\n",
    "    tf.keras.layers.Flatten(),\n",
    "    tf.keras.layers.Dense(125, activation='relu'),\n",
    "    tf.keras.layers.Dropout(0.5),\n",
    "    tf.keras.layers.Dense(10, activation='softmax')\n",
    "])\n",
    "\n",
    "three_layer_cnn_model.summary()\n",
    "three_layer_cnn_model.compile(optimizer='Adam', loss='categorical_crossentropy')"
   ]
  },
  {
   "cell_type": "code",
   "execution_count": 16,
   "metadata": {
    "ExecuteTime": {
     "end_time": "2020-06-19T19:02:46.251802Z",
     "start_time": "2020-06-19T18:57:02.945027Z"
    }
   },
   "outputs": [
    {
     "name": "stdout",
     "output_type": "stream",
     "text": [
      "three_layer_cnn_model Error Rate: 2.89%\n"
     ]
    },
    {
     "data": {
      "text/plain": [
       "c3.KerasPipe(\n",
       " id='f105bd4e-65e9-4924-aa75-fa7bd7641ae2',\n",
       " meta=c3.Meta(\n",
       "        tenantTagId=3,\n",
       "        tenant='mnistExercise',\n",
       "        tag='dev',\n",
       "        created=datetime.datetime(2020, 6, 19, 18, 59, 32, tzinfo=datetime.timezone.utc),\n",
       "        createdBy='BA',\n",
       "        updated=datetime.datetime(2020, 6, 19, 19, 1, 50, tzinfo=datetime.timezone.utc),\n",
       "        updatedBy='BA',\n",
       "        timestamp=datetime.datetime(2020, 6, 19, 19, 1, 50, tzinfo=datetime.timezone.utc),\n",
       "        fetchInclude='[]',\n",
       "        fetchType='KerasPipe'),\n",
       " version=2,\n",
       " typeIdent='PIPE:LF:KRS',\n",
       " implType='KerasPipeV7d12',\n",
       " noTrainScore=False,\n",
       " persistedModelCategory='unidentified',\n",
       " typeVersion='7.12.4',\n",
       " untrainableOverride=False,\n",
       " technique=c3.KerasTechnique(\n",
       "             modelDef='{\"class_name\": \"Sequential\", \"config\": {\"name\": '\n",
       "                       '\"sequential_4\", \"layers\": [{\"class_name\": \"Reshape\", '\n",
       "                       '\"config\": {\"name\": \"reshape_4\", \"trainable\": true, '\n",
       "                       '\"batch_input_shape\": [null, 28, 28], \"dtype\": '\n",
       "                       '\"float32\", \"target_shape\": [28, 28, 1]}}, '\n",
       "                       '{\"class_name\": \"Conv2D\", \"config\": {\"name\": '\n",
       "                       '\"conv2d_1\", \"trainable\": true, \"dtype\": \"float32\", '\n",
       "                       '\"filters\": 32, \"kernel_size\": [3, 3], \"strides\": [1, '\n",
       "                       '1], \"padding\": \"valid\", \"data_format\": '\n",
       "                       '\"channels_last\", \"dilation_rate\": [1, 1], '\n",
       "                       '\"activation\": \"relu\", \"use_bias\": true, '\n",
       "                       '\"kernel_initializer\": {\"class_name\": \"GlorotUniform\", '\n",
       "                       '\"config\": {\"seed\": null}}, \"bias_initializer\": '\n",
       "                       '{\"class_name\": \"Zeros\", \"config\": {}}, '\n",
       "                       '\"kernel_regularizer\": null, \"bias_regularizer\": null, '\n",
       "                       '\"activity_regularizer\": null, \"kernel_constraint\": '\n",
       "                       'null, \"bias_constraint\": null}}, {\"class_name\": '\n",
       "                       '\"Conv2D\", \"config\": {\"name\": \"conv2d_2\", \"trainable\": '\n",
       "                       'true, \"dtype\": \"float32\", \"filters\": 64, '\n",
       "                       '\"kernel_size\": [3, 3], \"strides\": [1, 1], \"padding\": '\n",
       "                       '\"valid\", \"data_format\": \"channels_last\", '\n",
       "                       '\"dilation_rate\": [1, 1], \"activation\": \"relu\", '\n",
       "                       '\"use_bias\": true, \"kernel_initializer\": {\"class_name\": '\n",
       "                       '\"GlorotUniform\", \"config\": {\"seed\": null}}, '\n",
       "                       '\"bias_initializer\": {\"class_name\": \"Zeros\", \"config\": '\n",
       "                       '{}}, \"kernel_regularizer\": null, \"bias_regularizer\": '\n",
       "                       'null, \"activity_regularizer\": null, '\n",
       "                       '\"kernel_constraint\": null, \"bias_constraint\": null}}, '\n",
       "                       '{\"class_name\": \"MaxPooling2D\", \"config\": {\"name\": '\n",
       "                       '\"max_pooling2d\", \"trainable\": true, \"dtype\": '\n",
       "                       '\"float32\", \"pool_size\": [2, 2], \"padding\": \"valid\", '\n",
       "                       '\"strides\": [2, 2], \"data_format\": \"channels_last\"}}, '\n",
       "                       '{\"class_name\": \"Dropout\", \"config\": {\"name\": '\n",
       "                       '\"dropout\", \"trainable\": true, \"dtype\": \"float32\", '\n",
       "                       '\"rate\": 0.25, \"noise_shape\": null, \"seed\": null}}, '\n",
       "                       '{\"class_name\": \"Flatten\", \"config\": {\"name\": '\n",
       "                       '\"flatten_1\", \"trainable\": true, \"dtype\": \"float32\", '\n",
       "                       '\"data_format\": \"channels_last\"}}, {\"class_name\": '\n",
       "                       '\"Dense\", \"config\": {\"name\": \"dense_8\", \"trainable\": '\n",
       "                       'true, \"dtype\": \"float32\", \"units\": 125, \"activation\": '\n",
       "                       '\"relu\", \"use_bias\": true, \"kernel_initializer\": '\n",
       "                       '{\"class_name\": \"GlorotUniform\", \"config\": {\"seed\": '\n",
       "                       'null}}, \"bias_initializer\": {\"class_name\": \"Zeros\", '\n",
       "                       '\"config\": {}}, \"kernel_regularizer\": null, '\n",
       "                       '\"bias_regularizer\": null, \"activity_regularizer\": '\n",
       "                       'null, \"kernel_constraint\": null, \"bias_constraint\": '\n",
       "                       'null}}, {\"class_name\": \"Dropout\", \"config\": {\"name\": '\n",
       "                       '\"dropout_1\", \"trainable\": true, \"dtype\": \"float32\", '\n",
       "                       '\"rate\": 0.5, \"noise_shape\": null, \"seed\": null}}, '\n",
       "                       '{\"class_name\": \"Dense\", \"config\": {\"name\": \"dense_9\", '\n",
       "                       '\"trainable\": true, \"dtype\": \"float32\", \"units\": 10, '\n",
       "                       '\"activation\": \"softmax\", \"use_bias\": true, '\n",
       "                       '\"kernel_initializer\": {\"class_name\": \"GlorotUniform\", '\n",
       "                       '\"config\": {\"seed\": null}}, \"bias_initializer\": '\n",
       "                       '{\"class_name\": \"Zeros\", \"config\": {}}, '\n",
       "                       '\"kernel_regularizer\": null, \"bias_regularizer\": null, '\n",
       "                       '\"activity_regularizer\": null, \"kernel_constraint\": '\n",
       "                       'null, \"bias_constraint\": null}}]}, \"keras_version\": '\n",
       "                       '\"2.2.4-tf\", \"backend\": \"tensorflow\"}',\n",
       "             batchSize=32,\n",
       "             numEpochs=10,\n",
       "             loss=c3.KerasLoss(\n",
       "                    config={'reduction': 'sum_over_batch_size'},\n",
       "                    name='categorical_crossentropy'),\n",
       "             optimizer=c3.KerasOptimizer(\n",
       "                         className='Adam',\n",
       "                         config={'amsgrad': False,\n",
       "                                  'beta_1': 0.8999999761581421,\n",
       "                                  'beta_2': 0.9990000128746033,\n",
       "                                  'decay': 0,\n",
       "                                  'epsilon': 1e-07,\n",
       "                                  'learning_rate': 0.0010000000474974513},\n",
       "                         name='Adam'),\n",
       "             warmStart=False,\n",
       "             shuffle=False,\n",
       "             stepsPerEpoch=100,\n",
       "             cacheOnLocalClientStorage=True,\n",
       "             lossChanged=False,\n",
       "             optimizerChanged=False,\n",
       "             metricsChanged=False),\n",
       " trainedModel=c3.MLTrainedModelArtifact(\n",
       "                modelFile=c3.File(\n",
       "                            url='c3fs:///ml/models/KerasPipe/f105bd4e-65e9-4924-aa75-fa7bd7641ae2/kerasModelDef.h5'),\n",
       "                description='Keras model created on '\n",
       "                             '2020-06-19T19:01:50.600852'),\n",
       " progress=c3.DeepLearningTrainingProgress(\n",
       "            id='18531cfb-6303-4850-8fec-5a6e6cea383c'))"
      ]
     },
     "execution_count": 16,
     "metadata": {},
     "output_type": "execute_result"
    }
   ],
   "source": [
    "train_and_test_model('three_layer_cnn_model', three_layer_cnn_model,\n",
    "                     mnist_train_images, mnist_train_labels_onehot,\n",
    "                     mnist_test_images, mnist_test_labels_onehot)"
   ]
  },
  {
   "cell_type": "code",
   "execution_count": null,
   "metadata": {},
   "outputs": [],
   "source": []
  }
 ],
 "metadata": {
  "kernelspec": {
   "display_name": "Python 3",
   "language": "python",
   "name": "python3"
  },
  "language_info": {
   "codemirror_mode": {
    "name": "ipython",
    "version": 3
   },
   "file_extension": ".py",
   "mimetype": "text/x-python",
   "name": "python",
   "nbconvert_exporter": "python",
   "pygments_lexer": "ipython3",
   "version": "3.6.10"
  }
 },
 "nbformat": 4,
 "nbformat_minor": 4
}
